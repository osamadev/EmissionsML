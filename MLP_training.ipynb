{
 "cells": [
  {
   "cell_type": "code",
   "execution_count": 1,
   "id": "efa7108d-70bd-4df5-8dc1-775d945fbf56",
   "metadata": {},
   "outputs": [],
   "source": [
    "import pandas as pd\n",
    "import numpy as np\n",
    "from sklearn.neural_network import MLPRegressor\n",
    "from sklearn.model_selection import train_test_split, GridSearchCV, KFold\n",
    "from sklearn.preprocessing import StandardScaler, MinMaxScaler\n",
    "from sklearn.pipeline import Pipeline\n",
    "from sklearn.compose import TransformedTargetRegressor\n",
    "from sklearn.metrics import mean_squared_error, mean_absolute_error, r2_score\n",
    "import joblib"
   ]
  },
  {
   "cell_type": "code",
   "execution_count": 2,
   "id": "02dd4250-2818-47c5-b1dd-da8d924672f3",
   "metadata": {},
   "outputs": [],
   "source": [
    "# Load the data\n",
    "final_merged_df = pd.read_csv('final_merged_df.csv')\n",
    "# Define target and features\n",
    "y = final_merged_df[['co2_avg', 'pm10_avg', 'pm25_avg', 'no2_avg']]\n",
    "X = final_merged_df.drop(columns=['co2_avg', 'pm10_avg', 'pm25_avg', 'no2_avg'])\n",
    "\n",
    "# Drop aadt columns (keeping vkm columns)\n",
    "X.drop(columns=['aadt_motorcycle', 'aadt_taxi',\n",
    "                'aadt_petrol_car', 'aadt_diesel_car', 'aadt_electric_car',\n",
    "                'aadt_petrol_phv', 'aadt_diesel_phv', 'aadt_electric_phv',\n",
    "                'aadt_petrol_lgv', 'aadt_diesel_lgv', 'aadt_electric_lgv',\n",
    "                'aadt_hgvs_rigid_2_axles', 'aadt_hgvs_rigid_3_axles',\n",
    "                'aadt_hgvs_rigid_4_or_more_axles', 'aadt_hgvs_articulated_3_to_4_axles',\n",
    "                'aadt_hgvs_articulated_5_axles', 'aadt_hgvs_articulated_6_axles',\n",
    "                'aadt_buses', 'aadt_coaches'], inplace=True)"
   ]
  },
  {
   "cell_type": "code",
   "execution_count": 3,
   "id": "0e2b5fbe-b472-4fdd-9077-619609e9fa4e",
   "metadata": {},
   "outputs": [],
   "source": [
    "# Split the dataset into training and testing sets\n",
    "X_train, X_test, y_train, y_test = train_test_split(X, y, test_size=0.2, random_state=42)"
   ]
  },
  {
   "cell_type": "markdown",
   "id": "298e60db-bd39-412b-8b8e-7c4e927c17d4",
   "metadata": {},
   "source": [
    "#### Hyperparameters tuning"
   ]
  },
  {
   "cell_type": "code",
   "execution_count": 30,
   "id": "7ebcbad5-0018-4fb2-a1cc-12b6ff414b59",
   "metadata": {},
   "outputs": [],
   "source": [
    "# parameter grid for the MLPRegressor.\n",
    "param_grid = {\n",
    "    'regressor__mlp__hidden_layer_sizes': [(64, 128), (128, 256), (128, 256, 128)],\n",
    "    'regressor__mlp__activation': ['relu', 'tanh'],\n",
    "    'regressor__mlp__solver': ['adam', 'lbfgs'],\n",
    "    'regressor__mlp__learning_rate_init': [0.001, 0.01]\n",
    "}"
   ]
  },
  {
   "cell_type": "code",
   "execution_count": 32,
   "id": "9bffd648-fec9-46f3-9c40-4ad993005fc8",
   "metadata": {},
   "outputs": [],
   "source": [
    "# Set up K-fold cross validation\n",
    "kfold = KFold(n_splits=5, shuffle=True, random_state=42)\n",
    "\n",
    "# Define two sets of scalers:\n",
    "scalers = {\n",
    "    'StandardScaler': (StandardScaler(), StandardScaler()),\n",
    "    'MinMaxScaler': (MinMaxScaler(), MinMaxScaler())\n",
    "}"
   ]
  },
  {
   "cell_type": "code",
   "execution_count": 33,
   "id": "48f3ed03-1247-4127-96c9-9aae71ba51c9",
   "metadata": {},
   "outputs": [
    {
     "name": "stdout",
     "output_type": "stream",
     "text": [
      "Running grid search with StandardScaler for both features and target...\n",
      "Fitting 5 folds for each of 24 candidates, totalling 120 fits\n"
     ]
    },
    {
     "name": "stderr",
     "output_type": "stream",
     "text": [
      "/Users/minhanh29/anaconda3/envs/tts/lib/python3.10/site-packages/sklearn/neural_network/_multilayer_perceptron.py:546: ConvergenceWarning: lbfgs failed to converge (status=1):\n",
      "STOP: TOTAL NO. of ITERATIONS REACHED LIMIT.\n",
      "\n",
      "Increase the number of iterations (max_iter) or scale the data as shown in:\n",
      "    https://scikit-learn.org/stable/modules/preprocessing.html\n",
      "  self.n_iter_ = _check_optimize_result(\"lbfgs\", opt_res, self.max_iter)\n",
      "/Users/minhanh29/anaconda3/envs/tts/lib/python3.10/site-packages/sklearn/neural_network/_multilayer_perceptron.py:546: ConvergenceWarning: lbfgs failed to converge (status=1):\n",
      "STOP: TOTAL NO. of ITERATIONS REACHED LIMIT.\n",
      "\n",
      "Increase the number of iterations (max_iter) or scale the data as shown in:\n",
      "    https://scikit-learn.org/stable/modules/preprocessing.html\n",
      "  self.n_iter_ = _check_optimize_result(\"lbfgs\", opt_res, self.max_iter)\n",
      "/Users/minhanh29/anaconda3/envs/tts/lib/python3.10/site-packages/sklearn/neural_network/_multilayer_perceptron.py:546: ConvergenceWarning: lbfgs failed to converge (status=1):\n",
      "STOP: TOTAL NO. of ITERATIONS REACHED LIMIT.\n",
      "\n",
      "Increase the number of iterations (max_iter) or scale the data as shown in:\n",
      "    https://scikit-learn.org/stable/modules/preprocessing.html\n",
      "  self.n_iter_ = _check_optimize_result(\"lbfgs\", opt_res, self.max_iter)\n",
      "/Users/minhanh29/anaconda3/envs/tts/lib/python3.10/site-packages/sklearn/neural_network/_multilayer_perceptron.py:546: ConvergenceWarning: lbfgs failed to converge (status=1):\n",
      "STOP: TOTAL NO. of ITERATIONS REACHED LIMIT.\n",
      "\n",
      "Increase the number of iterations (max_iter) or scale the data as shown in:\n",
      "    https://scikit-learn.org/stable/modules/preprocessing.html\n",
      "  self.n_iter_ = _check_optimize_result(\"lbfgs\", opt_res, self.max_iter)\n",
      "/Users/minhanh29/anaconda3/envs/tts/lib/python3.10/site-packages/sklearn/neural_network/_multilayer_perceptron.py:546: ConvergenceWarning: lbfgs failed to converge (status=1):\n",
      "STOP: TOTAL NO. of ITERATIONS REACHED LIMIT.\n",
      "\n",
      "Increase the number of iterations (max_iter) or scale the data as shown in:\n",
      "    https://scikit-learn.org/stable/modules/preprocessing.html\n",
      "  self.n_iter_ = _check_optimize_result(\"lbfgs\", opt_res, self.max_iter)\n"
     ]
    },
    {
     "name": "stdout",
     "output_type": "stream",
     "text": [
      "[CV 2/5] END regressor__mlp__activation=relu, regressor__mlp__hidden_layer_sizes=(64, 128), regressor__mlp__learning_rate_init=0.01, regressor__mlp__solver=adam;, score=-4.467 total time=   3.7s\n",
      "[CV 1/5] END regressor__mlp__activation=relu, regressor__mlp__hidden_layer_sizes=(64, 128), regressor__mlp__learning_rate_init=0.01, regressor__mlp__solver=lbfgs;, score=-3.981 total time= 1.3min\n"
     ]
    },
    {
     "name": "stderr",
     "output_type": "stream",
     "text": [
      "/Users/minhanh29/anaconda3/envs/tts/lib/python3.10/site-packages/sklearn/neural_network/_multilayer_perceptron.py:546: ConvergenceWarning: lbfgs failed to converge (status=1):\n",
      "STOP: TOTAL NO. of ITERATIONS REACHED LIMIT.\n",
      "\n",
      "Increase the number of iterations (max_iter) or scale the data as shown in:\n",
      "    https://scikit-learn.org/stable/modules/preprocessing.html\n",
      "  self.n_iter_ = _check_optimize_result(\"lbfgs\", opt_res, self.max_iter)\n",
      "/Users/minhanh29/anaconda3/envs/tts/lib/python3.10/site-packages/joblib/externals/loky/process_executor.py:752: UserWarning: A worker stopped while some jobs were given to the executor. This can be caused by a too short worker timeout or by a memory leak.\n",
      "  warnings.warn(\n"
     ]
    },
    {
     "name": "stdout",
     "output_type": "stream",
     "text": [
      "[CV 5/5] END regressor__mlp__activation=relu, regressor__mlp__hidden_layer_sizes=(64, 128), regressor__mlp__learning_rate_init=0.001, regressor__mlp__solver=adam;, score=-1.762 total time=   3.7s\n",
      "[CV 5/5] END regressor__mlp__activation=relu, regressor__mlp__hidden_layer_sizes=(64, 128), regressor__mlp__learning_rate_init=0.01, regressor__mlp__solver=adam;, score=-5.875 total time=   3.6s\n",
      "[CV 3/5] END regressor__mlp__activation=relu, regressor__mlp__hidden_layer_sizes=(64, 128), regressor__mlp__learning_rate_init=0.01, regressor__mlp__solver=lbfgs;, score=-2.668 total time= 1.3min\n"
     ]
    },
    {
     "name": "stderr",
     "output_type": "stream",
     "text": [
      "/Users/minhanh29/anaconda3/envs/tts/lib/python3.10/site-packages/sklearn/neural_network/_multilayer_perceptron.py:546: ConvergenceWarning: lbfgs failed to converge (status=1):\n",
      "STOP: TOTAL NO. of ITERATIONS REACHED LIMIT.\n",
      "\n",
      "Increase the number of iterations (max_iter) or scale the data as shown in:\n",
      "    https://scikit-learn.org/stable/modules/preprocessing.html\n",
      "  self.n_iter_ = _check_optimize_result(\"lbfgs\", opt_res, self.max_iter)\n",
      "/Users/minhanh29/anaconda3/envs/tts/lib/python3.10/site-packages/sklearn/neural_network/_multilayer_perceptron.py:546: ConvergenceWarning: lbfgs failed to converge (status=1):\n",
      "STOP: TOTAL NO. of ITERATIONS REACHED LIMIT.\n",
      "\n",
      "Increase the number of iterations (max_iter) or scale the data as shown in:\n",
      "    https://scikit-learn.org/stable/modules/preprocessing.html\n",
      "  self.n_iter_ = _check_optimize_result(\"lbfgs\", opt_res, self.max_iter)\n"
     ]
    },
    {
     "name": "stdout",
     "output_type": "stream",
     "text": [
      "[CV 1/5] END regressor__mlp__activation=relu, regressor__mlp__hidden_layer_sizes=(64, 128), regressor__mlp__learning_rate_init=0.001, regressor__mlp__solver=adam;, score=-4.299 total time=   8.2s\n",
      "[CV 4/5] END regressor__mlp__activation=relu, regressor__mlp__hidden_layer_sizes=(64, 128), regressor__mlp__learning_rate_init=0.01, regressor__mlp__solver=lbfgs;, score=-2.211 total time= 1.3min\n",
      "[CV 1/5] END regressor__mlp__activation=relu, regressor__mlp__hidden_layer_sizes=(64, 128), regressor__mlp__learning_rate_init=0.01, regressor__mlp__solver=adam;, score=-6.427 total time=   8.7s\n",
      "[CV 5/5] END regressor__mlp__activation=relu, regressor__mlp__hidden_layer_sizes=(64, 128), regressor__mlp__learning_rate_init=0.01, regressor__mlp__solver=lbfgs;, score=-1.680 total time= 1.3min\n"
     ]
    },
    {
     "name": "stderr",
     "output_type": "stream",
     "text": [
      "/Users/minhanh29/anaconda3/envs/tts/lib/python3.10/site-packages/sklearn/neural_network/_multilayer_perceptron.py:546: ConvergenceWarning: lbfgs failed to converge (status=1):\n",
      "STOP: TOTAL NO. of ITERATIONS REACHED LIMIT.\n",
      "\n",
      "Increase the number of iterations (max_iter) or scale the data as shown in:\n",
      "    https://scikit-learn.org/stable/modules/preprocessing.html\n",
      "  self.n_iter_ = _check_optimize_result(\"lbfgs\", opt_res, self.max_iter)\n"
     ]
    },
    {
     "name": "stdout",
     "output_type": "stream",
     "text": [
      "[CV 4/5] END regressor__mlp__activation=relu, regressor__mlp__hidden_layer_sizes=(64, 128), regressor__mlp__learning_rate_init=0.01, regressor__mlp__solver=adam;, score=-3.994 total time=   6.3s\n",
      "[CV 2/5] END regressor__mlp__activation=relu, regressor__mlp__hidden_layer_sizes=(64, 128), regressor__mlp__learning_rate_init=0.01, regressor__mlp__solver=lbfgs;, score=-3.595 total time= 1.4min\n"
     ]
    },
    {
     "name": "stderr",
     "output_type": "stream",
     "text": [
      "/Users/minhanh29/anaconda3/envs/tts/lib/python3.10/site-packages/sklearn/neural_network/_multilayer_perceptron.py:546: ConvergenceWarning: lbfgs failed to converge (status=1):\n",
      "STOP: TOTAL NO. of ITERATIONS REACHED LIMIT.\n",
      "\n",
      "Increase the number of iterations (max_iter) or scale the data as shown in:\n",
      "    https://scikit-learn.org/stable/modules/preprocessing.html\n",
      "  self.n_iter_ = _check_optimize_result(\"lbfgs\", opt_res, self.max_iter)\n",
      "/Users/minhanh29/anaconda3/envs/tts/lib/python3.10/site-packages/sklearn/neural_network/_multilayer_perceptron.py:546: ConvergenceWarning: lbfgs failed to converge (status=1):\n",
      "STOP: TOTAL NO. of ITERATIONS REACHED LIMIT.\n",
      "\n",
      "Increase the number of iterations (max_iter) or scale the data as shown in:\n",
      "    https://scikit-learn.org/stable/modules/preprocessing.html\n",
      "  self.n_iter_ = _check_optimize_result(\"lbfgs\", opt_res, self.max_iter)\n"
     ]
    },
    {
     "name": "stdout",
     "output_type": "stream",
     "text": [
      "[CV 4/5] END regressor__mlp__activation=relu, regressor__mlp__hidden_layer_sizes=(64, 128), regressor__mlp__learning_rate_init=0.001, regressor__mlp__solver=adam;, score=-2.294 total time=  10.7s\n",
      "[CV 4/5] END regressor__mlp__activation=relu, regressor__mlp__hidden_layer_sizes=(128, 256), regressor__mlp__learning_rate_init=0.001, regressor__mlp__solver=adam;, score=-2.434 total time=  21.0s\n",
      "[CV 1/5] END regressor__mlp__activation=relu, regressor__mlp__hidden_layer_sizes=(128, 256), regressor__mlp__learning_rate_init=0.001, regressor__mlp__solver=lbfgs;, score=-3.710 total time= 4.1min\n",
      "[CV 3/5] END regressor__mlp__activation=relu, regressor__mlp__hidden_layer_sizes=(64, 128), regressor__mlp__learning_rate_init=0.001, regressor__mlp__solver=adam;, score=-5.235 total time=   9.2s\n",
      "[CV 2/5] END regressor__mlp__activation=relu, regressor__mlp__hidden_layer_sizes=(128, 256), regressor__mlp__learning_rate_init=0.001, regressor__mlp__solver=adam;, score=-5.417 total time=  31.5s\n",
      "[CV 3/5] END regressor__mlp__activation=relu, regressor__mlp__hidden_layer_sizes=(128, 256), regressor__mlp__learning_rate_init=0.001, regressor__mlp__solver=lbfgs;, score=-2.665 total time= 4.0min\n"
     ]
    },
    {
     "name": "stderr",
     "output_type": "stream",
     "text": [
      "/Users/minhanh29/anaconda3/envs/tts/lib/python3.10/site-packages/sklearn/neural_network/_multilayer_perceptron.py:546: ConvergenceWarning: lbfgs failed to converge (status=1):\n",
      "STOP: TOTAL NO. of ITERATIONS REACHED LIMIT.\n",
      "\n",
      "Increase the number of iterations (max_iter) or scale the data as shown in:\n",
      "    https://scikit-learn.org/stable/modules/preprocessing.html\n",
      "  self.n_iter_ = _check_optimize_result(\"lbfgs\", opt_res, self.max_iter)\n",
      "/Users/minhanh29/anaconda3/envs/tts/lib/python3.10/site-packages/sklearn/neural_network/_multilayer_perceptron.py:546: ConvergenceWarning: lbfgs failed to converge (status=1):\n",
      "STOP: TOTAL NO. of ITERATIONS REACHED LIMIT.\n",
      "\n",
      "Increase the number of iterations (max_iter) or scale the data as shown in:\n",
      "    https://scikit-learn.org/stable/modules/preprocessing.html\n",
      "  self.n_iter_ = _check_optimize_result(\"lbfgs\", opt_res, self.max_iter)\n"
     ]
    },
    {
     "name": "stdout",
     "output_type": "stream",
     "text": [
      "[CV 2/5] END regressor__mlp__activation=relu, regressor__mlp__hidden_layer_sizes=(64, 128), regressor__mlp__learning_rate_init=0.001, regressor__mlp__solver=adam;, score=-3.639 total time=   9.8s\n",
      "[CV 3/5] END regressor__mlp__activation=relu, regressor__mlp__hidden_layer_sizes=(128, 256), regressor__mlp__learning_rate_init=0.001, regressor__mlp__solver=adam;, score=-3.228 total time=  17.8s\n",
      "[CV 5/5] END regressor__mlp__activation=relu, regressor__mlp__hidden_layer_sizes=(128, 256), regressor__mlp__learning_rate_init=0.001, regressor__mlp__solver=adam;, score=-2.294 total time=  32.3s\n",
      "[CV 4/5] END regressor__mlp__activation=relu, regressor__mlp__hidden_layer_sizes=(128, 256), regressor__mlp__learning_rate_init=0.001, regressor__mlp__solver=lbfgs;, score=-2.234 total time= 3.8min\n",
      "[CV 3/5] END regressor__mlp__activation=relu, regressor__mlp__hidden_layer_sizes=(64, 128), regressor__mlp__learning_rate_init=0.01, regressor__mlp__solver=adam;, score=-4.935 total time=   8.8s\n",
      "[CV 1/5] END regressor__mlp__activation=relu, regressor__mlp__hidden_layer_sizes=(128, 256), regressor__mlp__learning_rate_init=0.001, regressor__mlp__solver=adam;, score=-9.036 total time=  31.5s\n",
      "[CV 2/5] END regressor__mlp__activation=relu, regressor__mlp__hidden_layer_sizes=(128, 256), regressor__mlp__learning_rate_init=0.001, regressor__mlp__solver=lbfgs;, score=-3.342 total time= 4.2min\n"
     ]
    },
    {
     "name": "stderr",
     "output_type": "stream",
     "text": [
      "/Users/minhanh29/anaconda3/envs/tts/lib/python3.10/site-packages/sklearn/neural_network/_multilayer_perceptron.py:546: ConvergenceWarning: lbfgs failed to converge (status=1):\n",
      "STOP: TOTAL NO. of ITERATIONS REACHED LIMIT.\n",
      "\n",
      "Increase the number of iterations (max_iter) or scale the data as shown in:\n",
      "    https://scikit-learn.org/stable/modules/preprocessing.html\n",
      "  self.n_iter_ = _check_optimize_result(\"lbfgs\", opt_res, self.max_iter)\n",
      "/Users/minhanh29/anaconda3/envs/tts/lib/python3.10/site-packages/sklearn/neural_network/_multilayer_perceptron.py:546: ConvergenceWarning: lbfgs failed to converge (status=1):\n",
      "STOP: TOTAL NO. of ITERATIONS REACHED LIMIT.\n",
      "\n",
      "Increase the number of iterations (max_iter) or scale the data as shown in:\n",
      "    https://scikit-learn.org/stable/modules/preprocessing.html\n",
      "  self.n_iter_ = _check_optimize_result(\"lbfgs\", opt_res, self.max_iter)\n"
     ]
    },
    {
     "name": "stdout",
     "output_type": "stream",
     "text": [
      "[CV 3/5] END regressor__mlp__activation=relu, regressor__mlp__hidden_layer_sizes=(64, 128), regressor__mlp__learning_rate_init=0.001, regressor__mlp__solver=lbfgs;, score=-2.668 total time= 1.3min\n",
      "[CV 5/5] END regressor__mlp__activation=relu, regressor__mlp__hidden_layer_sizes=(128, 256), regressor__mlp__learning_rate_init=0.001, regressor__mlp__solver=lbfgs;, score=-1.918 total time= 3.9min\n"
     ]
    },
    {
     "name": "stderr",
     "output_type": "stream",
     "text": [
      "/Users/minhanh29/anaconda3/envs/tts/lib/python3.10/site-packages/sklearn/neural_network/_multilayer_perceptron.py:546: ConvergenceWarning: lbfgs failed to converge (status=1):\n",
      "STOP: TOTAL NO. of ITERATIONS REACHED LIMIT.\n",
      "\n",
      "Increase the number of iterations (max_iter) or scale the data as shown in:\n",
      "    https://scikit-learn.org/stable/modules/preprocessing.html\n",
      "  self.n_iter_ = _check_optimize_result(\"lbfgs\", opt_res, self.max_iter)\n"
     ]
    },
    {
     "name": "stdout",
     "output_type": "stream",
     "text": [
      "[CV 5/5] END regressor__mlp__activation=relu, regressor__mlp__hidden_layer_sizes=(64, 128), regressor__mlp__learning_rate_init=0.001, regressor__mlp__solver=lbfgs;, score=-1.680 total time= 1.3min\n",
      "[CV 2/5] END regressor__mlp__activation=relu, regressor__mlp__hidden_layer_sizes=(128, 256), regressor__mlp__learning_rate_init=0.01, regressor__mlp__solver=adam;, score=-3.733 total time=   9.7s\n",
      "[CV 1/5] END regressor__mlp__activation=relu, regressor__mlp__hidden_layer_sizes=(128, 256), regressor__mlp__learning_rate_init=0.01, regressor__mlp__solver=lbfgs;, score=-3.710 total time= 3.9min\n"
     ]
    },
    {
     "name": "stderr",
     "output_type": "stream",
     "text": [
      "/Users/minhanh29/anaconda3/envs/tts/lib/python3.10/site-packages/sklearn/neural_network/_multilayer_perceptron.py:546: ConvergenceWarning: lbfgs failed to converge (status=1):\n",
      "STOP: TOTAL NO. of ITERATIONS REACHED LIMIT.\n",
      "\n",
      "Increase the number of iterations (max_iter) or scale the data as shown in:\n",
      "    https://scikit-learn.org/stable/modules/preprocessing.html\n",
      "  self.n_iter_ = _check_optimize_result(\"lbfgs\", opt_res, self.max_iter)\n",
      "/Users/minhanh29/anaconda3/envs/tts/lib/python3.10/site-packages/sklearn/neural_network/_multilayer_perceptron.py:546: ConvergenceWarning: lbfgs failed to converge (status=1):\n",
      "STOP: TOTAL NO. of ITERATIONS REACHED LIMIT.\n",
      "\n",
      "Increase the number of iterations (max_iter) or scale the data as shown in:\n",
      "    https://scikit-learn.org/stable/modules/preprocessing.html\n",
      "  self.n_iter_ = _check_optimize_result(\"lbfgs\", opt_res, self.max_iter)\n",
      "/Users/minhanh29/anaconda3/envs/tts/lib/python3.10/site-packages/sklearn/neural_network/_multilayer_perceptron.py:546: ConvergenceWarning: lbfgs failed to converge (status=1):\n",
      "STOP: TOTAL NO. of ITERATIONS REACHED LIMIT.\n",
      "\n",
      "Increase the number of iterations (max_iter) or scale the data as shown in:\n",
      "    https://scikit-learn.org/stable/modules/preprocessing.html\n",
      "  self.n_iter_ = _check_optimize_result(\"lbfgs\", opt_res, self.max_iter)\n"
     ]
    },
    {
     "name": "stdout",
     "output_type": "stream",
     "text": [
      "[CV 2/5] END regressor__mlp__activation=relu, regressor__mlp__hidden_layer_sizes=(64, 128), regressor__mlp__learning_rate_init=0.001, regressor__mlp__solver=lbfgs;, score=-3.595 total time= 1.3min\n",
      "[CV 3/5] END regressor__mlp__activation=relu, regressor__mlp__hidden_layer_sizes=(128, 256), regressor__mlp__learning_rate_init=0.01, regressor__mlp__solver=adam;, score=-23.782 total time=  10.7s\n",
      "[CV 5/5] END regressor__mlp__activation=relu, regressor__mlp__hidden_layer_sizes=(128, 256), regressor__mlp__learning_rate_init=0.01, regressor__mlp__solver=lbfgs;, score=-1.918 total time= 3.9min\n"
     ]
    },
    {
     "name": "stderr",
     "output_type": "stream",
     "text": [
      "/Users/minhanh29/anaconda3/envs/tts/lib/python3.10/site-packages/sklearn/neural_network/_multilayer_perceptron.py:546: ConvergenceWarning: lbfgs failed to converge (status=1):\n",
      "STOP: TOTAL NO. of ITERATIONS REACHED LIMIT.\n",
      "\n",
      "Increase the number of iterations (max_iter) or scale the data as shown in:\n",
      "    https://scikit-learn.org/stable/modules/preprocessing.html\n",
      "  self.n_iter_ = _check_optimize_result(\"lbfgs\", opt_res, self.max_iter)\n",
      "/Users/minhanh29/anaconda3/envs/tts/lib/python3.10/site-packages/sklearn/neural_network/_multilayer_perceptron.py:546: ConvergenceWarning: lbfgs failed to converge (status=1):\n",
      "STOP: TOTAL NO. of ITERATIONS REACHED LIMIT.\n",
      "\n",
      "Increase the number of iterations (max_iter) or scale the data as shown in:\n",
      "    https://scikit-learn.org/stable/modules/preprocessing.html\n",
      "  self.n_iter_ = _check_optimize_result(\"lbfgs\", opt_res, self.max_iter)\n"
     ]
    },
    {
     "name": "stdout",
     "output_type": "stream",
     "text": [
      "[CV 2/5] END regressor__mlp__activation=tanh, regressor__mlp__hidden_layer_sizes=(64, 128), regressor__mlp__learning_rate_init=0.001, regressor__mlp__solver=adam;, score=-8.402 total time=  15.8s\n",
      "[CV 5/5] END regressor__mlp__activation=tanh, regressor__mlp__hidden_layer_sizes=(64, 128), regressor__mlp__learning_rate_init=0.001, regressor__mlp__solver=adam;, score=-17.202 total time=   8.1s\n",
      "[CV 2/5] END regressor__mlp__activation=tanh, regressor__mlp__hidden_layer_sizes=(64, 128), regressor__mlp__learning_rate_init=0.001, regressor__mlp__solver=lbfgs;, score=-4.574 total time= 1.7min\n"
     ]
    },
    {
     "name": "stderr",
     "output_type": "stream",
     "text": [
      "/Users/minhanh29/anaconda3/envs/tts/lib/python3.10/site-packages/sklearn/neural_network/_multilayer_perceptron.py:546: ConvergenceWarning: lbfgs failed to converge (status=1):\n",
      "STOP: TOTAL NO. of ITERATIONS REACHED LIMIT.\n",
      "\n",
      "Increase the number of iterations (max_iter) or scale the data as shown in:\n",
      "    https://scikit-learn.org/stable/modules/preprocessing.html\n",
      "  self.n_iter_ = _check_optimize_result(\"lbfgs\", opt_res, self.max_iter)\n"
     ]
    },
    {
     "name": "stdout",
     "output_type": "stream",
     "text": [
      "[CV 4/5] END regressor__mlp__activation=relu, regressor__mlp__hidden_layer_sizes=(128, 256, 128), regressor__mlp__learning_rate_init=0.01, regressor__mlp__solver=adam;, score=-10.557 total time=  50.0s\n",
      "[CV 3/5] END regressor__mlp__activation=tanh, regressor__mlp__hidden_layer_sizes=(64, 128), regressor__mlp__learning_rate_init=0.001, regressor__mlp__solver=lbfgs;, score=-6.066 total time= 1.7min\n"
     ]
    },
    {
     "name": "stderr",
     "output_type": "stream",
     "text": [
      "/Users/minhanh29/anaconda3/envs/tts/lib/python3.10/site-packages/sklearn/neural_network/_multilayer_perceptron.py:546: ConvergenceWarning: lbfgs failed to converge (status=1):\n",
      "STOP: TOTAL NO. of ITERATIONS REACHED LIMIT.\n",
      "\n",
      "Increase the number of iterations (max_iter) or scale the data as shown in:\n",
      "    https://scikit-learn.org/stable/modules/preprocessing.html\n",
      "  self.n_iter_ = _check_optimize_result(\"lbfgs\", opt_res, self.max_iter)\n"
     ]
    },
    {
     "name": "stdout",
     "output_type": "stream",
     "text": [
      "[CV 1/5] END regressor__mlp__activation=relu, regressor__mlp__hidden_layer_sizes=(128, 256, 128), regressor__mlp__learning_rate_init=0.01, regressor__mlp__solver=adam;, score=-13.176 total time=  29.2s\n",
      "[CV 5/5] END regressor__mlp__activation=relu, regressor__mlp__hidden_layer_sizes=(128, 256, 128), regressor__mlp__learning_rate_init=0.01, regressor__mlp__solver=adam;, score=-3.323 total time=  56.0s\n",
      "[CV 4/5] END regressor__mlp__activation=tanh, regressor__mlp__hidden_layer_sizes=(64, 128), regressor__mlp__learning_rate_init=0.001, regressor__mlp__solver=lbfgs;, score=-7.518 total time= 1.7min\n"
     ]
    },
    {
     "name": "stderr",
     "output_type": "stream",
     "text": [
      "/Users/minhanh29/anaconda3/envs/tts/lib/python3.10/site-packages/sklearn/neural_network/_multilayer_perceptron.py:546: ConvergenceWarning: lbfgs failed to converge (status=1):\n",
      "STOP: TOTAL NO. of ITERATIONS REACHED LIMIT.\n",
      "\n",
      "Increase the number of iterations (max_iter) or scale the data as shown in:\n",
      "    https://scikit-learn.org/stable/modules/preprocessing.html\n",
      "  self.n_iter_ = _check_optimize_result(\"lbfgs\", opt_res, self.max_iter)\n",
      "/Users/minhanh29/anaconda3/envs/tts/lib/python3.10/site-packages/sklearn/neural_network/_multilayer_perceptron.py:546: ConvergenceWarning: lbfgs failed to converge (status=1):\n",
      "STOP: TOTAL NO. of ITERATIONS REACHED LIMIT.\n",
      "\n",
      "Increase the number of iterations (max_iter) or scale the data as shown in:\n",
      "    https://scikit-learn.org/stable/modules/preprocessing.html\n",
      "  self.n_iter_ = _check_optimize_result(\"lbfgs\", opt_res, self.max_iter)\n",
      "/Users/minhanh29/anaconda3/envs/tts/lib/python3.10/site-packages/sklearn/neural_network/_multilayer_perceptron.py:546: ConvergenceWarning: lbfgs failed to converge (status=1):\n",
      "STOP: TOTAL NO. of ITERATIONS REACHED LIMIT.\n",
      "\n",
      "Increase the number of iterations (max_iter) or scale the data as shown in:\n",
      "    https://scikit-learn.org/stable/modules/preprocessing.html\n",
      "  self.n_iter_ = _check_optimize_result(\"lbfgs\", opt_res, self.max_iter)\n"
     ]
    },
    {
     "name": "stdout",
     "output_type": "stream",
     "text": [
      "[CV 5/5] END regressor__mlp__activation=relu, regressor__mlp__hidden_layer_sizes=(128, 256), regressor__mlp__learning_rate_init=0.01, regressor__mlp__solver=adam;, score=-13.320 total time=  19.0s\n",
      "[CV 4/5] END regressor__mlp__activation=relu, regressor__mlp__hidden_layer_sizes=(128, 256, 128), regressor__mlp__learning_rate_init=0.001, regressor__mlp__solver=adam;, score=-2.638 total time=  57.8s\n",
      "[CV 2/5] END regressor__mlp__activation=relu, regressor__mlp__hidden_layer_sizes=(128, 256, 128), regressor__mlp__learning_rate_init=0.001, regressor__mlp__solver=lbfgs;, score=-3.377 total time= 6.6min\n"
     ]
    },
    {
     "name": "stderr",
     "output_type": "stream",
     "text": [
      "/Users/minhanh29/anaconda3/envs/tts/lib/python3.10/site-packages/sklearn/neural_network/_multilayer_perceptron.py:546: ConvergenceWarning: lbfgs failed to converge (status=1):\n",
      "STOP: TOTAL NO. of ITERATIONS REACHED LIMIT.\n",
      "\n",
      "Increase the number of iterations (max_iter) or scale the data as shown in:\n",
      "    https://scikit-learn.org/stable/modules/preprocessing.html\n",
      "  self.n_iter_ = _check_optimize_result(\"lbfgs\", opt_res, self.max_iter)\n"
     ]
    },
    {
     "name": "stdout",
     "output_type": "stream",
     "text": [
      "[CV 4/5] END regressor__mlp__activation=relu, regressor__mlp__hidden_layer_sizes=(64, 128), regressor__mlp__learning_rate_init=0.001, regressor__mlp__solver=lbfgs;, score=-2.211 total time= 1.3min\n",
      "[CV 1/5] END regressor__mlp__activation=relu, regressor__mlp__hidden_layer_sizes=(128, 256), regressor__mlp__learning_rate_init=0.01, regressor__mlp__solver=adam;, score=-8.492 total time=  17.0s\n",
      "[CV 2/5] END regressor__mlp__activation=relu, regressor__mlp__hidden_layer_sizes=(128, 256, 128), regressor__mlp__learning_rate_init=0.001, regressor__mlp__solver=adam;, score=-18.424 total time=  24.7s\n",
      "[CV 5/5] END regressor__mlp__activation=relu, regressor__mlp__hidden_layer_sizes=(128, 256, 128), regressor__mlp__learning_rate_init=0.001, regressor__mlp__solver=adam;, score=-2.079 total time=  28.2s\n",
      "[CV 1/5] END regressor__mlp__activation=relu, regressor__mlp__hidden_layer_sizes=(128, 256, 128), regressor__mlp__learning_rate_init=0.001, regressor__mlp__solver=lbfgs;, score=-3.590 total time= 7.0min\n"
     ]
    },
    {
     "name": "stderr",
     "output_type": "stream",
     "text": [
      "/Users/minhanh29/anaconda3/envs/tts/lib/python3.10/site-packages/sklearn/neural_network/_multilayer_perceptron.py:546: ConvergenceWarning: lbfgs failed to converge (status=1):\n",
      "STOP: TOTAL NO. of ITERATIONS REACHED LIMIT.\n",
      "\n",
      "Increase the number of iterations (max_iter) or scale the data as shown in:\n",
      "    https://scikit-learn.org/stable/modules/preprocessing.html\n",
      "  self.n_iter_ = _check_optimize_result(\"lbfgs\", opt_res, self.max_iter)\n"
     ]
    },
    {
     "name": "stdout",
     "output_type": "stream",
     "text": [
      "[CV 1/5] END regressor__mlp__activation=relu, regressor__mlp__hidden_layer_sizes=(64, 128), regressor__mlp__learning_rate_init=0.001, regressor__mlp__solver=lbfgs;, score=-3.981 total time= 1.3min\n",
      "[CV 4/5] END regressor__mlp__activation=relu, regressor__mlp__hidden_layer_sizes=(128, 256), regressor__mlp__learning_rate_init=0.01, regressor__mlp__solver=adam;, score=-3.675 total time=  17.0s\n",
      "[CV 3/5] END regressor__mlp__activation=relu, regressor__mlp__hidden_layer_sizes=(128, 256, 128), regressor__mlp__learning_rate_init=0.001, regressor__mlp__solver=adam;, score=-3.040 total time= 1.2min\n",
      "[CV 3/5] END regressor__mlp__activation=relu, regressor__mlp__hidden_layer_sizes=(128, 256, 128), regressor__mlp__learning_rate_init=0.001, regressor__mlp__solver=lbfgs;, score=-2.876 total time= 6.6min\n",
      "[CV 3/5] END regressor__mlp__activation=tanh, regressor__mlp__hidden_layer_sizes=(64, 128), regressor__mlp__learning_rate_init=0.01, regressor__mlp__solver=adam;, score=-56.748 total time=  11.5s\n",
      "[CV 1/5] END regressor__mlp__activation=tanh, regressor__mlp__hidden_layer_sizes=(64, 128), regressor__mlp__learning_rate_init=0.01, regressor__mlp__solver=lbfgs;, score=-9.992 total time= 1.7min\n"
     ]
    },
    {
     "name": "stderr",
     "output_type": "stream",
     "text": [
      "/Users/minhanh29/anaconda3/envs/tts/lib/python3.10/site-packages/sklearn/neural_network/_multilayer_perceptron.py:546: ConvergenceWarning: lbfgs failed to converge (status=1):\n",
      "STOP: TOTAL NO. of ITERATIONS REACHED LIMIT.\n",
      "\n",
      "Increase the number of iterations (max_iter) or scale the data as shown in:\n",
      "    https://scikit-learn.org/stable/modules/preprocessing.html\n",
      "  self.n_iter_ = _check_optimize_result(\"lbfgs\", opt_res, self.max_iter)\n"
     ]
    },
    {
     "name": "stdout",
     "output_type": "stream",
     "text": [
      "[CV 1/5] END regressor__mlp__activation=tanh, regressor__mlp__hidden_layer_sizes=(64, 128), regressor__mlp__learning_rate_init=0.01, regressor__mlp__solver=adam;, score=-48.102 total time=   8.7s\n",
      "[CV 2/5] END regressor__mlp__activation=tanh, regressor__mlp__hidden_layer_sizes=(64, 128), regressor__mlp__learning_rate_init=0.01, regressor__mlp__solver=adam;, score=-52.558 total time=  10.7s\n",
      "[CV 5/5] END regressor__mlp__activation=tanh, regressor__mlp__hidden_layer_sizes=(64, 128), regressor__mlp__learning_rate_init=0.01, regressor__mlp__solver=adam;, score=-65.426 total time=  11.6s\n",
      "[CV 2/5] END regressor__mlp__activation=tanh, regressor__mlp__hidden_layer_sizes=(64, 128), regressor__mlp__learning_rate_init=0.01, regressor__mlp__solver=lbfgs;, score=-4.574 total time= 1.7min\n"
     ]
    },
    {
     "name": "stderr",
     "output_type": "stream",
     "text": [
      "/Users/minhanh29/anaconda3/envs/tts/lib/python3.10/site-packages/sklearn/neural_network/_multilayer_perceptron.py:546: ConvergenceWarning: lbfgs failed to converge (status=1):\n",
      "STOP: TOTAL NO. of ITERATIONS REACHED LIMIT.\n",
      "\n",
      "Increase the number of iterations (max_iter) or scale the data as shown in:\n",
      "    https://scikit-learn.org/stable/modules/preprocessing.html\n",
      "  self.n_iter_ = _check_optimize_result(\"lbfgs\", opt_res, self.max_iter)\n"
     ]
    },
    {
     "name": "stdout",
     "output_type": "stream",
     "text": [
      "[CV 4/5] END regressor__mlp__activation=tanh, regressor__mlp__hidden_layer_sizes=(64, 128), regressor__mlp__learning_rate_init=0.01, regressor__mlp__solver=adam;, score=-36.600 total time=  14.2s\n",
      "[CV 3/5] END regressor__mlp__activation=tanh, regressor__mlp__hidden_layer_sizes=(64, 128), regressor__mlp__learning_rate_init=0.01, regressor__mlp__solver=lbfgs;, score=-6.066 total time= 1.7min\n"
     ]
    },
    {
     "name": "stderr",
     "output_type": "stream",
     "text": [
      "/Users/minhanh29/anaconda3/envs/tts/lib/python3.10/site-packages/sklearn/neural_network/_multilayer_perceptron.py:546: ConvergenceWarning: lbfgs failed to converge (status=1):\n",
      "STOP: TOTAL NO. of ITERATIONS REACHED LIMIT.\n",
      "\n",
      "Increase the number of iterations (max_iter) or scale the data as shown in:\n",
      "    https://scikit-learn.org/stable/modules/preprocessing.html\n",
      "  self.n_iter_ = _check_optimize_result(\"lbfgs\", opt_res, self.max_iter)\n",
      "/Users/minhanh29/anaconda3/envs/tts/lib/python3.10/site-packages/sklearn/neural_network/_multilayer_perceptron.py:546: ConvergenceWarning: lbfgs failed to converge (status=1):\n",
      "STOP: TOTAL NO. of ITERATIONS REACHED LIMIT.\n",
      "\n",
      "Increase the number of iterations (max_iter) or scale the data as shown in:\n",
      "    https://scikit-learn.org/stable/modules/preprocessing.html\n",
      "  self.n_iter_ = _check_optimize_result(\"lbfgs\", opt_res, self.max_iter)\n"
     ]
    },
    {
     "name": "stdout",
     "output_type": "stream",
     "text": [
      "[CV 1/5] END regressor__mlp__activation=relu, regressor__mlp__hidden_layer_sizes=(128, 256, 128), regressor__mlp__learning_rate_init=0.001, regressor__mlp__solver=adam;, score=-5.230 total time= 1.6min\n",
      "[CV 4/5] END regressor__mlp__activation=relu, regressor__mlp__hidden_layer_sizes=(128, 256, 128), regressor__mlp__learning_rate_init=0.001, regressor__mlp__solver=lbfgs;, score=-2.119 total time= 6.7min\n",
      "[CV 4/5] END regressor__mlp__activation=relu, regressor__mlp__hidden_layer_sizes=(128, 256), regressor__mlp__learning_rate_init=0.01, regressor__mlp__solver=lbfgs;, score=-2.234 total time= 3.9min\n",
      "[CV 1/5] END regressor__mlp__activation=tanh, regressor__mlp__hidden_layer_sizes=(64, 128), regressor__mlp__learning_rate_init=0.001, regressor__mlp__solver=adam;, score=-18.319 total time=   8.9s\n",
      "[CV 3/5] END regressor__mlp__activation=tanh, regressor__mlp__hidden_layer_sizes=(64, 128), regressor__mlp__learning_rate_init=0.001, regressor__mlp__solver=adam;, score=-16.419 total time=   8.0s\n",
      "[CV 4/5] END regressor__mlp__activation=tanh, regressor__mlp__hidden_layer_sizes=(64, 128), regressor__mlp__learning_rate_init=0.001, regressor__mlp__solver=adam;, score=-15.466 total time=   7.6s\n",
      "[CV 1/5] END regressor__mlp__activation=tanh, regressor__mlp__hidden_layer_sizes=(64, 128), regressor__mlp__learning_rate_init=0.001, regressor__mlp__solver=lbfgs;, score=-9.992 total time= 1.6min\n",
      "[CV 5/5] END regressor__mlp__activation=tanh, regressor__mlp__hidden_layer_sizes=(64, 128), regressor__mlp__learning_rate_init=0.001, regressor__mlp__solver=lbfgs;, score=-3.610 total time= 1.7min\n",
      "[CV 4/5] END regressor__mlp__activation=tanh, regressor__mlp__hidden_layer_sizes=(64, 128), regressor__mlp__learning_rate_init=0.01, regressor__mlp__solver=lbfgs;, score=-7.518 total time= 1.7min\n"
     ]
    },
    {
     "name": "stderr",
     "output_type": "stream",
     "text": [
      "/Users/minhanh29/anaconda3/envs/tts/lib/python3.10/site-packages/sklearn/neural_network/_multilayer_perceptron.py:546: ConvergenceWarning: lbfgs failed to converge (status=1):\n",
      "STOP: TOTAL NO. of ITERATIONS REACHED LIMIT.\n",
      "\n",
      "Increase the number of iterations (max_iter) or scale the data as shown in:\n",
      "    https://scikit-learn.org/stable/modules/preprocessing.html\n",
      "  self.n_iter_ = _check_optimize_result(\"lbfgs\", opt_res, self.max_iter)\n",
      "/Users/minhanh29/anaconda3/envs/tts/lib/python3.10/site-packages/sklearn/neural_network/_multilayer_perceptron.py:546: ConvergenceWarning: lbfgs failed to converge (status=1):\n",
      "STOP: TOTAL NO. of ITERATIONS REACHED LIMIT.\n",
      "\n",
      "Increase the number of iterations (max_iter) or scale the data as shown in:\n",
      "    https://scikit-learn.org/stable/modules/preprocessing.html\n",
      "  self.n_iter_ = _check_optimize_result(\"lbfgs\", opt_res, self.max_iter)\n",
      "/Users/minhanh29/anaconda3/envs/tts/lib/python3.10/site-packages/sklearn/neural_network/_multilayer_perceptron.py:546: ConvergenceWarning: lbfgs failed to converge (status=1):\n",
      "STOP: TOTAL NO. of ITERATIONS REACHED LIMIT.\n",
      "\n",
      "Increase the number of iterations (max_iter) or scale the data as shown in:\n",
      "    https://scikit-learn.org/stable/modules/preprocessing.html\n",
      "  self.n_iter_ = _check_optimize_result(\"lbfgs\", opt_res, self.max_iter)\n",
      "/Users/minhanh29/anaconda3/envs/tts/lib/python3.10/site-packages/sklearn/neural_network/_multilayer_perceptron.py:546: ConvergenceWarning: lbfgs failed to converge (status=1):\n",
      "STOP: TOTAL NO. of ITERATIONS REACHED LIMIT.\n",
      "\n",
      "Increase the number of iterations (max_iter) or scale the data as shown in:\n",
      "    https://scikit-learn.org/stable/modules/preprocessing.html\n",
      "  self.n_iter_ = _check_optimize_result(\"lbfgs\", opt_res, self.max_iter)\n",
      "/Users/minhanh29/anaconda3/envs/tts/lib/python3.10/site-packages/sklearn/neural_network/_multilayer_perceptron.py:546: ConvergenceWarning: lbfgs failed to converge (status=1):\n",
      "STOP: TOTAL NO. of ITERATIONS REACHED LIMIT.\n",
      "\n",
      "Increase the number of iterations (max_iter) or scale the data as shown in:\n",
      "    https://scikit-learn.org/stable/modules/preprocessing.html\n",
      "  self.n_iter_ = _check_optimize_result(\"lbfgs\", opt_res, self.max_iter)\n",
      "/Users/minhanh29/anaconda3/envs/tts/lib/python3.10/site-packages/sklearn/neural_network/_multilayer_perceptron.py:546: ConvergenceWarning: lbfgs failed to converge (status=1):\n",
      "STOP: TOTAL NO. of ITERATIONS REACHED LIMIT.\n",
      "\n",
      "Increase the number of iterations (max_iter) or scale the data as shown in:\n",
      "    https://scikit-learn.org/stable/modules/preprocessing.html\n",
      "  self.n_iter_ = _check_optimize_result(\"lbfgs\", opt_res, self.max_iter)\n"
     ]
    },
    {
     "name": "stdout",
     "output_type": "stream",
     "text": [
      "[CV 3/5] END regressor__mlp__activation=relu, regressor__mlp__hidden_layer_sizes=(128, 256, 128), regressor__mlp__learning_rate_init=0.01, regressor__mlp__solver=adam;, score=-6.313 total time=  21.4s\n",
      "[CV 2/5] END regressor__mlp__activation=relu, regressor__mlp__hidden_layer_sizes=(128, 256, 128), regressor__mlp__learning_rate_init=0.01, regressor__mlp__solver=lbfgs;, score=-3.377 total time= 6.9min\n"
     ]
    },
    {
     "name": "stderr",
     "output_type": "stream",
     "text": [
      "/Users/minhanh29/anaconda3/envs/tts/lib/python3.10/site-packages/sklearn/neural_network/_multilayer_perceptron.py:546: ConvergenceWarning: lbfgs failed to converge (status=1):\n",
      "STOP: TOTAL NO. of ITERATIONS REACHED LIMIT.\n",
      "\n",
      "Increase the number of iterations (max_iter) or scale the data as shown in:\n",
      "    https://scikit-learn.org/stable/modules/preprocessing.html\n",
      "  self.n_iter_ = _check_optimize_result(\"lbfgs\", opt_res, self.max_iter)\n",
      "/Users/minhanh29/anaconda3/envs/tts/lib/python3.10/site-packages/sklearn/neural_network/_multilayer_perceptron.py:546: ConvergenceWarning: lbfgs failed to converge (status=1):\n",
      "STOP: TOTAL NO. of ITERATIONS REACHED LIMIT.\n",
      "\n",
      "Increase the number of iterations (max_iter) or scale the data as shown in:\n",
      "    https://scikit-learn.org/stable/modules/preprocessing.html\n",
      "  self.n_iter_ = _check_optimize_result(\"lbfgs\", opt_res, self.max_iter)\n"
     ]
    },
    {
     "name": "stdout",
     "output_type": "stream",
     "text": [
      "[CV 2/5] END regressor__mlp__activation=relu, regressor__mlp__hidden_layer_sizes=(128, 256, 128), regressor__mlp__learning_rate_init=0.01, regressor__mlp__solver=adam;, score=-27.446 total time=  19.0s\n",
      "[CV 1/5] END regressor__mlp__activation=relu, regressor__mlp__hidden_layer_sizes=(128, 256, 128), regressor__mlp__learning_rate_init=0.01, regressor__mlp__solver=lbfgs;, score=-3.590 total time= 7.1min\n"
     ]
    },
    {
     "name": "stderr",
     "output_type": "stream",
     "text": [
      "/Users/minhanh29/anaconda3/envs/tts/lib/python3.10/site-packages/sklearn/neural_network/_multilayer_perceptron.py:546: ConvergenceWarning: lbfgs failed to converge (status=1):\n",
      "STOP: TOTAL NO. of ITERATIONS REACHED LIMIT.\n",
      "\n",
      "Increase the number of iterations (max_iter) or scale the data as shown in:\n",
      "    https://scikit-learn.org/stable/modules/preprocessing.html\n",
      "  self.n_iter_ = _check_optimize_result(\"lbfgs\", opt_res, self.max_iter)\n",
      "/Users/minhanh29/anaconda3/envs/tts/lib/python3.10/site-packages/sklearn/neural_network/_multilayer_perceptron.py:546: ConvergenceWarning: lbfgs failed to converge (status=1):\n",
      "STOP: TOTAL NO. of ITERATIONS REACHED LIMIT.\n",
      "\n",
      "Increase the number of iterations (max_iter) or scale the data as shown in:\n",
      "    https://scikit-learn.org/stable/modules/preprocessing.html\n",
      "  self.n_iter_ = _check_optimize_result(\"lbfgs\", opt_res, self.max_iter)\n"
     ]
    },
    {
     "name": "stdout",
     "output_type": "stream",
     "text": [
      "[CV 2/5] END regressor__mlp__activation=tanh, regressor__mlp__hidden_layer_sizes=(128, 256), regressor__mlp__learning_rate_init=0.001, regressor__mlp__solver=adam;, score=-21.621 total time=  32.9s\n",
      "[CV 2/5] END regressor__mlp__activation=tanh, regressor__mlp__hidden_layer_sizes=(128, 256), regressor__mlp__learning_rate_init=0.001, regressor__mlp__solver=lbfgs;, score=-6.147 total time= 4.9min\n"
     ]
    },
    {
     "name": "stderr",
     "output_type": "stream",
     "text": [
      "/Users/minhanh29/anaconda3/envs/tts/lib/python3.10/site-packages/sklearn/neural_network/_multilayer_perceptron.py:546: ConvergenceWarning: lbfgs failed to converge (status=1):\n",
      "STOP: TOTAL NO. of ITERATIONS REACHED LIMIT.\n",
      "\n",
      "Increase the number of iterations (max_iter) or scale the data as shown in:\n",
      "    https://scikit-learn.org/stable/modules/preprocessing.html\n",
      "  self.n_iter_ = _check_optimize_result(\"lbfgs\", opt_res, self.max_iter)\n"
     ]
    },
    {
     "name": "stdout",
     "output_type": "stream",
     "text": [
      "[CV 1/5] END regressor__mlp__activation=tanh, regressor__mlp__hidden_layer_sizes=(128, 256), regressor__mlp__learning_rate_init=0.001, regressor__mlp__solver=adam;, score=-7.621 total time=  44.2s\n",
      "[CV 3/5] END regressor__mlp__activation=tanh, regressor__mlp__hidden_layer_sizes=(128, 256), regressor__mlp__learning_rate_init=0.001, regressor__mlp__solver=lbfgs;, score=-7.540 total time= 4.9min\n"
     ]
    },
    {
     "name": "stderr",
     "output_type": "stream",
     "text": [
      "/Users/minhanh29/anaconda3/envs/tts/lib/python3.10/site-packages/sklearn/neural_network/_multilayer_perceptron.py:546: ConvergenceWarning: lbfgs failed to converge (status=1):\n",
      "STOP: TOTAL NO. of ITERATIONS REACHED LIMIT.\n",
      "\n",
      "Increase the number of iterations (max_iter) or scale the data as shown in:\n",
      "    https://scikit-learn.org/stable/modules/preprocessing.html\n",
      "  self.n_iter_ = _check_optimize_result(\"lbfgs\", opt_res, self.max_iter)\n"
     ]
    },
    {
     "name": "stdout",
     "output_type": "stream",
     "text": [
      "[CV 3/5] END regressor__mlp__activation=tanh, regressor__mlp__hidden_layer_sizes=(128, 256), regressor__mlp__learning_rate_init=0.001, regressor__mlp__solver=adam;, score=-11.822 total time=  37.6s\n",
      "[CV 4/5] END regressor__mlp__activation=tanh, regressor__mlp__hidden_layer_sizes=(128, 256), regressor__mlp__learning_rate_init=0.001, regressor__mlp__solver=lbfgs;, score=-6.763 total time= 4.9min\n"
     ]
    },
    {
     "name": "stderr",
     "output_type": "stream",
     "text": [
      "/Users/minhanh29/anaconda3/envs/tts/lib/python3.10/site-packages/sklearn/neural_network/_multilayer_perceptron.py:546: ConvergenceWarning: lbfgs failed to converge (status=1):\n",
      "STOP: TOTAL NO. of ITERATIONS REACHED LIMIT.\n",
      "\n",
      "Increase the number of iterations (max_iter) or scale the data as shown in:\n",
      "    https://scikit-learn.org/stable/modules/preprocessing.html\n",
      "  self.n_iter_ = _check_optimize_result(\"lbfgs\", opt_res, self.max_iter)\n"
     ]
    },
    {
     "name": "stdout",
     "output_type": "stream",
     "text": [
      "[CV 5/5] END regressor__mlp__activation=tanh, regressor__mlp__hidden_layer_sizes=(128, 256), regressor__mlp__learning_rate_init=0.001, regressor__mlp__solver=adam;, score=-12.839 total time=  29.0s\n",
      "[CV 5/5] END regressor__mlp__activation=tanh, regressor__mlp__hidden_layer_sizes=(128, 256), regressor__mlp__learning_rate_init=0.001, regressor__mlp__solver=lbfgs;, score=-3.243 total time= 5.0min\n"
     ]
    },
    {
     "name": "stderr",
     "output_type": "stream",
     "text": [
      "/Users/minhanh29/anaconda3/envs/tts/lib/python3.10/site-packages/sklearn/neural_network/_multilayer_perceptron.py:546: ConvergenceWarning: lbfgs failed to converge (status=1):\n",
      "STOP: TOTAL NO. of ITERATIONS REACHED LIMIT.\n",
      "\n",
      "Increase the number of iterations (max_iter) or scale the data as shown in:\n",
      "    https://scikit-learn.org/stable/modules/preprocessing.html\n",
      "  self.n_iter_ = _check_optimize_result(\"lbfgs\", opt_res, self.max_iter)\n"
     ]
    },
    {
     "name": "stdout",
     "output_type": "stream",
     "text": [
      "[CV 3/5] END regressor__mlp__activation=tanh, regressor__mlp__hidden_layer_sizes=(128, 256), regressor__mlp__learning_rate_init=0.01, regressor__mlp__solver=adam;, score=-60.397 total time=  20.0s\n",
      "[CV 1/5] END regressor__mlp__activation=tanh, regressor__mlp__hidden_layer_sizes=(128, 256), regressor__mlp__learning_rate_init=0.01, regressor__mlp__solver=lbfgs;, score=-8.586 total time= 4.9min\n"
     ]
    },
    {
     "name": "stderr",
     "output_type": "stream",
     "text": [
      "/Users/minhanh29/anaconda3/envs/tts/lib/python3.10/site-packages/sklearn/neural_network/_multilayer_perceptron.py:546: ConvergenceWarning: lbfgs failed to converge (status=1):\n",
      "STOP: TOTAL NO. of ITERATIONS REACHED LIMIT.\n",
      "\n",
      "Increase the number of iterations (max_iter) or scale the data as shown in:\n",
      "    https://scikit-learn.org/stable/modules/preprocessing.html\n",
      "  self.n_iter_ = _check_optimize_result(\"lbfgs\", opt_res, self.max_iter)\n"
     ]
    },
    {
     "name": "stdout",
     "output_type": "stream",
     "text": [
      "[CV 5/5] END regressor__mlp__activation=tanh, regressor__mlp__hidden_layer_sizes=(64, 128), regressor__mlp__learning_rate_init=0.01, regressor__mlp__solver=lbfgs;, score=-3.610 total time= 1.7min\n",
      "[CV 4/5] END regressor__mlp__activation=tanh, regressor__mlp__hidden_layer_sizes=(128, 256), regressor__mlp__learning_rate_init=0.01, regressor__mlp__solver=adam;, score=-72.308 total time=  20.9s\n",
      "[CV 2/5] END regressor__mlp__activation=tanh, regressor__mlp__hidden_layer_sizes=(128, 256), regressor__mlp__learning_rate_init=0.01, regressor__mlp__solver=lbfgs;, score=-6.147 total time= 4.8min\n"
     ]
    },
    {
     "name": "stderr",
     "output_type": "stream",
     "text": [
      "/Users/minhanh29/anaconda3/envs/tts/lib/python3.10/site-packages/sklearn/neural_network/_multilayer_perceptron.py:546: ConvergenceWarning: lbfgs failed to converge (status=1):\n",
      "STOP: TOTAL NO. of ITERATIONS REACHED LIMIT.\n",
      "\n",
      "Increase the number of iterations (max_iter) or scale the data as shown in:\n",
      "    https://scikit-learn.org/stable/modules/preprocessing.html\n",
      "  self.n_iter_ = _check_optimize_result(\"lbfgs\", opt_res, self.max_iter)\n"
     ]
    },
    {
     "name": "stdout",
     "output_type": "stream",
     "text": [
      "[CV 4/5] END regressor__mlp__activation=tanh, regressor__mlp__hidden_layer_sizes=(128, 256), regressor__mlp__learning_rate_init=0.001, regressor__mlp__solver=adam;, score=-11.244 total time=  41.6s\n",
      "[CV 1/5] END regressor__mlp__activation=tanh, regressor__mlp__hidden_layer_sizes=(128, 256), regressor__mlp__learning_rate_init=0.01, regressor__mlp__solver=adam;, score=-66.628 total time=  18.0s\n",
      "[CV 2/5] END regressor__mlp__activation=tanh, regressor__mlp__hidden_layer_sizes=(128, 256), regressor__mlp__learning_rate_init=0.01, regressor__mlp__solver=adam;, score=-32.900 total time=  23.1s\n",
      "[CV 5/5] END regressor__mlp__activation=tanh, regressor__mlp__hidden_layer_sizes=(128, 256), regressor__mlp__learning_rate_init=0.01, regressor__mlp__solver=adam;, score=-63.370 total time=  25.7s\n",
      "[CV 3/5] END regressor__mlp__activation=tanh, regressor__mlp__hidden_layer_sizes=(128, 256), regressor__mlp__learning_rate_init=0.01, regressor__mlp__solver=lbfgs;, score=-7.540 total time= 4.9min\n"
     ]
    },
    {
     "name": "stderr",
     "output_type": "stream",
     "text": [
      "/Users/minhanh29/anaconda3/envs/tts/lib/python3.10/site-packages/sklearn/neural_network/_multilayer_perceptron.py:546: ConvergenceWarning: lbfgs failed to converge (status=1):\n",
      "STOP: TOTAL NO. of ITERATIONS REACHED LIMIT.\n",
      "\n",
      "Increase the number of iterations (max_iter) or scale the data as shown in:\n",
      "    https://scikit-learn.org/stable/modules/preprocessing.html\n",
      "  self.n_iter_ = _check_optimize_result(\"lbfgs\", opt_res, self.max_iter)\n",
      "/Users/minhanh29/anaconda3/envs/tts/lib/python3.10/site-packages/sklearn/neural_network/_multilayer_perceptron.py:546: ConvergenceWarning: lbfgs failed to converge (status=1):\n",
      "STOP: TOTAL NO. of ITERATIONS REACHED LIMIT.\n",
      "\n",
      "Increase the number of iterations (max_iter) or scale the data as shown in:\n",
      "    https://scikit-learn.org/stable/modules/preprocessing.html\n",
      "  self.n_iter_ = _check_optimize_result(\"lbfgs\", opt_res, self.max_iter)\n"
     ]
    },
    {
     "name": "stdout",
     "output_type": "stream",
     "text": [
      "[CV 2/5] END regressor__mlp__activation=relu, regressor__mlp__hidden_layer_sizes=(128, 256), regressor__mlp__learning_rate_init=0.01, regressor__mlp__solver=lbfgs;, score=-3.342 total time= 3.9min\n",
      "[CV 5/5] END regressor__mlp__activation=relu, regressor__mlp__hidden_layer_sizes=(128, 256, 128), regressor__mlp__learning_rate_init=0.01, regressor__mlp__solver=lbfgs;, score=-1.713 total time= 6.7min\n",
      "[CV 5/5] END regressor__mlp__activation=tanh, regressor__mlp__hidden_layer_sizes=(128, 256), regressor__mlp__learning_rate_init=0.01, regressor__mlp__solver=lbfgs;, score=-3.243 total time= 4.8min\n"
     ]
    },
    {
     "name": "stderr",
     "output_type": "stream",
     "text": [
      "/Users/minhanh29/anaconda3/envs/tts/lib/python3.10/site-packages/sklearn/neural_network/_multilayer_perceptron.py:546: ConvergenceWarning: lbfgs failed to converge (status=1):\n",
      "STOP: TOTAL NO. of ITERATIONS REACHED LIMIT.\n",
      "\n",
      "Increase the number of iterations (max_iter) or scale the data as shown in:\n",
      "    https://scikit-learn.org/stable/modules/preprocessing.html\n",
      "  self.n_iter_ = _check_optimize_result(\"lbfgs\", opt_res, self.max_iter)\n"
     ]
    },
    {
     "name": "stdout",
     "output_type": "stream",
     "text": [
      "[CV 3/5] END regressor__mlp__activation=relu, regressor__mlp__hidden_layer_sizes=(128, 256), regressor__mlp__learning_rate_init=0.01, regressor__mlp__solver=lbfgs;, score=-2.665 total time= 3.8min\n",
      "[CV 3/5] END regressor__mlp__activation=relu, regressor__mlp__hidden_layer_sizes=(128, 256, 128), regressor__mlp__learning_rate_init=0.01, regressor__mlp__solver=lbfgs;, score=-2.876 total time= 6.8min\n",
      "[CV 1/5] END regressor__mlp__activation=tanh, regressor__mlp__hidden_layer_sizes=(128, 256, 128), regressor__mlp__learning_rate_init=0.001, regressor__mlp__solver=adam;, score=-22.755 total time=  31.3s\n",
      "[CV 1/5] END regressor__mlp__activation=tanh, regressor__mlp__hidden_layer_sizes=(128, 256, 128), regressor__mlp__learning_rate_init=0.001, regressor__mlp__solver=lbfgs;, score=-11.142 total time=30.5min\n"
     ]
    },
    {
     "name": "stderr",
     "output_type": "stream",
     "text": [
      "/Users/minhanh29/anaconda3/envs/tts/lib/python3.10/site-packages/sklearn/neural_network/_multilayer_perceptron.py:546: ConvergenceWarning: lbfgs failed to converge (status=1):\n",
      "STOP: TOTAL NO. of ITERATIONS REACHED LIMIT.\n",
      "\n",
      "Increase the number of iterations (max_iter) or scale the data as shown in:\n",
      "    https://scikit-learn.org/stable/modules/preprocessing.html\n",
      "  self.n_iter_ = _check_optimize_result(\"lbfgs\", opt_res, self.max_iter)\n",
      "/Users/minhanh29/anaconda3/envs/tts/lib/python3.10/site-packages/sklearn/neural_network/_multilayer_perceptron.py:546: ConvergenceWarning: lbfgs failed to converge (status=1):\n",
      "STOP: TOTAL NO. of ITERATIONS REACHED LIMIT.\n",
      "\n",
      "Increase the number of iterations (max_iter) or scale the data as shown in:\n",
      "    https://scikit-learn.org/stable/modules/preprocessing.html\n",
      "  self.n_iter_ = _check_optimize_result(\"lbfgs\", opt_res, self.max_iter)\n"
     ]
    },
    {
     "name": "stdout",
     "output_type": "stream",
     "text": [
      "[CV 2/5] END regressor__mlp__activation=tanh, regressor__mlp__hidden_layer_sizes=(128, 256, 128), regressor__mlp__learning_rate_init=0.001, regressor__mlp__solver=adam;, score=-11.338 total time=  47.6s\n",
      "[CV 2/5] END regressor__mlp__activation=tanh, regressor__mlp__hidden_layer_sizes=(128, 256, 128), regressor__mlp__learning_rate_init=0.001, regressor__mlp__solver=lbfgs;, score=-6.222 total time=30.3min\n"
     ]
    },
    {
     "name": "stderr",
     "output_type": "stream",
     "text": [
      "/Users/minhanh29/anaconda3/envs/tts/lib/python3.10/site-packages/sklearn/neural_network/_multilayer_perceptron.py:546: ConvergenceWarning: lbfgs failed to converge (status=1):\n",
      "STOP: TOTAL NO. of ITERATIONS REACHED LIMIT.\n",
      "\n",
      "Increase the number of iterations (max_iter) or scale the data as shown in:\n",
      "    https://scikit-learn.org/stable/modules/preprocessing.html\n",
      "  self.n_iter_ = _check_optimize_result(\"lbfgs\", opt_res, self.max_iter)\n"
     ]
    },
    {
     "name": "stdout",
     "output_type": "stream",
     "text": [
      "[CV 4/5] END regressor__mlp__activation=tanh, regressor__mlp__hidden_layer_sizes=(128, 256, 128), regressor__mlp__learning_rate_init=0.001, regressor__mlp__solver=adam;, score=-11.016 total time=  45.1s\n",
      "[CV 3/5] END regressor__mlp__activation=tanh, regressor__mlp__hidden_layer_sizes=(128, 256, 128), regressor__mlp__learning_rate_init=0.001, regressor__mlp__solver=lbfgs;, score=-8.916 total time=30.4min\n",
      "[CV 5/5] END regressor__mlp__activation=relu, regressor__mlp__hidden_layer_sizes=(128, 256, 128), regressor__mlp__learning_rate_init=0.001, regressor__mlp__solver=lbfgs;, score=-1.713 total time= 7.0min\n",
      "[CV 4/5] END regressor__mlp__activation=tanh, regressor__mlp__hidden_layer_sizes=(128, 256), regressor__mlp__learning_rate_init=0.01, regressor__mlp__solver=lbfgs;, score=-6.763 total time= 4.8min\n"
     ]
    },
    {
     "name": "stderr",
     "output_type": "stream",
     "text": [
      "/Users/minhanh29/anaconda3/envs/tts/lib/python3.10/site-packages/sklearn/neural_network/_multilayer_perceptron.py:546: ConvergenceWarning: lbfgs failed to converge (status=1):\n",
      "STOP: TOTAL NO. of ITERATIONS REACHED LIMIT.\n",
      "\n",
      "Increase the number of iterations (max_iter) or scale the data as shown in:\n",
      "    https://scikit-learn.org/stable/modules/preprocessing.html\n",
      "  self.n_iter_ = _check_optimize_result(\"lbfgs\", opt_res, self.max_iter)\n",
      "/Users/minhanh29/anaconda3/envs/tts/lib/python3.10/site-packages/sklearn/neural_network/_multilayer_perceptron.py:546: ConvergenceWarning: lbfgs failed to converge (status=1):\n",
      "STOP: TOTAL NO. of ITERATIONS REACHED LIMIT.\n",
      "\n",
      "Increase the number of iterations (max_iter) or scale the data as shown in:\n",
      "    https://scikit-learn.org/stable/modules/preprocessing.html\n",
      "  self.n_iter_ = _check_optimize_result(\"lbfgs\", opt_res, self.max_iter)\n"
     ]
    },
    {
     "name": "stdout",
     "output_type": "stream",
     "text": [
      "[CV 1/5] END regressor__mlp__activation=tanh, regressor__mlp__hidden_layer_sizes=(128, 256, 128), regressor__mlp__learning_rate_init=0.01, regressor__mlp__solver=adam;, score=-52.877 total time=  44.8s\n",
      "[CV 1/5] END regressor__mlp__activation=tanh, regressor__mlp__hidden_layer_sizes=(128, 256, 128), regressor__mlp__learning_rate_init=0.01, regressor__mlp__solver=lbfgs;, score=-11.142 total time=29.5min\n"
     ]
    },
    {
     "name": "stderr",
     "output_type": "stream",
     "text": [
      "/Users/minhanh29/anaconda3/envs/tts/lib/python3.10/site-packages/sklearn/neural_network/_multilayer_perceptron.py:546: ConvergenceWarning: lbfgs failed to converge (status=1):\n",
      "STOP: TOTAL NO. of ITERATIONS REACHED LIMIT.\n",
      "\n",
      "Increase the number of iterations (max_iter) or scale the data as shown in:\n",
      "    https://scikit-learn.org/stable/modules/preprocessing.html\n",
      "  self.n_iter_ = _check_optimize_result(\"lbfgs\", opt_res, self.max_iter)\n"
     ]
    },
    {
     "name": "stdout",
     "output_type": "stream",
     "text": [
      "[CV 3/5] END regressor__mlp__activation=tanh, regressor__mlp__hidden_layer_sizes=(128, 256, 128), regressor__mlp__learning_rate_init=0.01, regressor__mlp__solver=adam;, score=-104.806 total time=  39.8s\n",
      "[CV 2/5] END regressor__mlp__activation=tanh, regressor__mlp__hidden_layer_sizes=(128, 256, 128), regressor__mlp__learning_rate_init=0.01, regressor__mlp__solver=lbfgs;, score=-6.222 total time=29.5min\n"
     ]
    },
    {
     "name": "stderr",
     "output_type": "stream",
     "text": [
      "/Users/minhanh29/anaconda3/envs/tts/lib/python3.10/site-packages/sklearn/neural_network/_multilayer_perceptron.py:546: ConvergenceWarning: lbfgs failed to converge (status=1):\n",
      "STOP: TOTAL NO. of ITERATIONS REACHED LIMIT.\n",
      "\n",
      "Increase the number of iterations (max_iter) or scale the data as shown in:\n",
      "    https://scikit-learn.org/stable/modules/preprocessing.html\n",
      "  self.n_iter_ = _check_optimize_result(\"lbfgs\", opt_res, self.max_iter)\n"
     ]
    },
    {
     "name": "stdout",
     "output_type": "stream",
     "text": [
      "[CV 2/5] END regressor__mlp__activation=tanh, regressor__mlp__hidden_layer_sizes=(128, 256, 128), regressor__mlp__learning_rate_init=0.01, regressor__mlp__solver=adam;, score=-82.001 total time=  20.6s\n",
      "[CV 5/5] END regressor__mlp__activation=tanh, regressor__mlp__hidden_layer_sizes=(128, 256, 128), regressor__mlp__learning_rate_init=0.01, regressor__mlp__solver=adam;, score=-106.848 total time=  39.2s\n",
      "[CV 4/5] END regressor__mlp__activation=tanh, regressor__mlp__hidden_layer_sizes=(128, 256, 128), regressor__mlp__learning_rate_init=0.01, regressor__mlp__solver=lbfgs;, score=-6.841 total time=29.3min\n"
     ]
    },
    {
     "name": "stderr",
     "output_type": "stream",
     "text": [
      "/Users/minhanh29/anaconda3/envs/tts/lib/python3.10/site-packages/sklearn/neural_network/_multilayer_perceptron.py:546: ConvergenceWarning: lbfgs failed to converge (status=1):\n",
      "STOP: TOTAL NO. of ITERATIONS REACHED LIMIT.\n",
      "\n",
      "Increase the number of iterations (max_iter) or scale the data as shown in:\n",
      "    https://scikit-learn.org/stable/modules/preprocessing.html\n",
      "  self.n_iter_ = _check_optimize_result(\"lbfgs\", opt_res, self.max_iter)\n",
      "/Users/minhanh29/anaconda3/envs/tts/lib/python3.10/site-packages/sklearn/neural_network/_multilayer_perceptron.py:546: ConvergenceWarning: lbfgs failed to converge (status=1):\n",
      "STOP: TOTAL NO. of ITERATIONS REACHED LIMIT.\n",
      "\n",
      "Increase the number of iterations (max_iter) or scale the data as shown in:\n",
      "    https://scikit-learn.org/stable/modules/preprocessing.html\n",
      "  self.n_iter_ = _check_optimize_result(\"lbfgs\", opt_res, self.max_iter)\n",
      "/Users/minhanh29/anaconda3/envs/tts/lib/python3.10/site-packages/sklearn/model_selection/_search.py:409: VisibleDeprecationWarning: Creating an ndarray from ragged nested sequences (which is a list-or-tuple of lists-or-tuples-or ndarrays with different lengths or shapes) is deprecated. If you meant to do this, you must specify 'dtype=object' when creating the ndarray.\n",
      "  arr = np.array(param_list)\n"
     ]
    },
    {
     "name": "stdout",
     "output_type": "stream",
     "text": [
      "[CV 4/5] END regressor__mlp__activation=tanh, regressor__mlp__hidden_layer_sizes=(128, 256, 128), regressor__mlp__learning_rate_init=0.01, regressor__mlp__solver=adam;, score=-51.953 total time=  50.1s\n",
      "[CV 5/5] END regressor__mlp__activation=tanh, regressor__mlp__hidden_layer_sizes=(128, 256, 128), regressor__mlp__learning_rate_init=0.01, regressor__mlp__solver=lbfgs;, score=-4.460 total time=29.5min\n",
      "[CV 4/5] END regressor__mlp__activation=relu, regressor__mlp__hidden_layer_sizes=(128, 256, 128), regressor__mlp__learning_rate_init=0.01, regressor__mlp__solver=lbfgs;, score=-2.119 total time= 6.9min\n",
      "[CV 3/5] END regressor__mlp__activation=tanh, regressor__mlp__hidden_layer_sizes=(128, 256, 128), regressor__mlp__learning_rate_init=0.001, regressor__mlp__solver=adam;, score=-26.771 total time=  19.1s\n",
      "[CV 5/5] END regressor__mlp__activation=tanh, regressor__mlp__hidden_layer_sizes=(128, 256, 128), regressor__mlp__learning_rate_init=0.001, regressor__mlp__solver=adam;, score=-20.717 total time=  30.8s\n",
      "[CV 4/5] END regressor__mlp__activation=tanh, regressor__mlp__hidden_layer_sizes=(128, 256, 128), regressor__mlp__learning_rate_init=0.001, regressor__mlp__solver=lbfgs;, score=-6.841 total time=30.3min\n",
      "[CV 1/5] END regressor__mlp__activation=tanh, regressor__mlp__hidden_layer_sizes=(128, 256), regressor__mlp__learning_rate_init=0.001, regressor__mlp__solver=lbfgs;, score=-8.586 total time= 4.8min\n",
      "[CV 5/5] END regressor__mlp__activation=tanh, regressor__mlp__hidden_layer_sizes=(128, 256, 128), regressor__mlp__learning_rate_init=0.001, regressor__mlp__solver=lbfgs;, score=-4.460 total time=29.9min\n",
      "[CV 3/5] END regressor__mlp__activation=tanh, regressor__mlp__hidden_layer_sizes=(128, 256, 128), regressor__mlp__learning_rate_init=0.01, regressor__mlp__solver=lbfgs;, score=-8.916 total time=29.4min\n"
     ]
    },
    {
     "name": "stderr",
     "output_type": "stream",
     "text": [
      "/Users/minhanh29/anaconda3/envs/tts/lib/python3.10/site-packages/sklearn/neural_network/_multilayer_perceptron.py:546: ConvergenceWarning: lbfgs failed to converge (status=1):\n",
      "STOP: TOTAL NO. of ITERATIONS REACHED LIMIT.\n",
      "\n",
      "Increase the number of iterations (max_iter) or scale the data as shown in:\n",
      "    https://scikit-learn.org/stable/modules/preprocessing.html\n",
      "  self.n_iter_ = _check_optimize_result(\"lbfgs\", opt_res, self.max_iter)\n"
     ]
    },
    {
     "name": "stdout",
     "output_type": "stream",
     "text": [
      "Results for StandardScaler:\n",
      "  Best Parameters: {'regressor__mlp__activation': 'relu', 'regressor__mlp__hidden_layer_sizes': (128, 256, 128), 'regressor__mlp__learning_rate_init': 0.001, 'regressor__mlp__solver': 'lbfgs'}\n",
      "  Test MSE: 5.6398\n",
      "  Test MAE: 0.2402\n",
      "  Test R²: 0.9534\n",
      "\n",
      "Running grid search with MinMaxScaler for both features and target...\n",
      "Fitting 5 folds for each of 24 candidates, totalling 120 fits\n",
      "[CV 2/5] END regressor__mlp__activation=relu, regressor__mlp__hidden_layer_sizes=(64, 128), regressor__mlp__learning_rate_init=0.001, regressor__mlp__solver=adam;, score=-5.729 total time=   2.2s\n",
      "[CV 2/5] END regressor__mlp__activation=relu, regressor__mlp__hidden_layer_sizes=(64, 128), regressor__mlp__learning_rate_init=0.01, regressor__mlp__solver=lbfgs;, score=-11.279 total time=  13.4s\n"
     ]
    },
    {
     "name": "stderr",
     "output_type": "stream",
     "text": [
      "/Users/minhanh29/anaconda3/envs/tts/lib/python3.10/site-packages/joblib/externals/loky/process_executor.py:752: UserWarning: A worker stopped while some jobs were given to the executor. This can be caused by a too short worker timeout or by a memory leak.\n",
      "  warnings.warn(\n"
     ]
    },
    {
     "name": "stdout",
     "output_type": "stream",
     "text": [
      "[CV 4/5] END regressor__mlp__activation=relu, regressor__mlp__hidden_layer_sizes=(64, 128), regressor__mlp__learning_rate_init=0.001, regressor__mlp__solver=adam;, score=-3.415 total time=   2.2s\n",
      "[CV 1/5] END regressor__mlp__activation=relu, regressor__mlp__hidden_layer_sizes=(64, 128), regressor__mlp__learning_rate_init=0.01, regressor__mlp__solver=lbfgs;, score=-12.851 total time=  14.9s\n",
      "[CV 2/5] END regressor__mlp__activation=relu, regressor__mlp__hidden_layer_sizes=(64, 128), regressor__mlp__learning_rate_init=0.01, regressor__mlp__solver=adam;, score=-17.372 total time=   2.1s\n",
      "[CV 3/5] END regressor__mlp__activation=relu, regressor__mlp__hidden_layer_sizes=(64, 128), regressor__mlp__learning_rate_init=0.01, regressor__mlp__solver=lbfgs;, score=-11.229 total time=  16.0s\n",
      "[CV 3/5] END regressor__mlp__activation=relu, regressor__mlp__hidden_layer_sizes=(64, 128), regressor__mlp__learning_rate_init=0.01, regressor__mlp__solver=adam;, score=-5.617 total time=   2.1s\n",
      "[CV 4/5] END regressor__mlp__activation=relu, regressor__mlp__hidden_layer_sizes=(64, 128), regressor__mlp__learning_rate_init=0.01, regressor__mlp__solver=lbfgs;, score=-9.319 total time=  17.3s\n",
      "[CV 3/5] END regressor__mlp__activation=relu, regressor__mlp__hidden_layer_sizes=(64, 128), regressor__mlp__learning_rate_init=0.001, regressor__mlp__solver=adam;, score=-5.439 total time=   2.2s\n",
      "[CV 5/5] END regressor__mlp__activation=relu, regressor__mlp__hidden_layer_sizes=(64, 128), regressor__mlp__learning_rate_init=0.01, regressor__mlp__solver=lbfgs;, score=-7.655 total time=  17.7s\n",
      "[CV 1/5] END regressor__mlp__activation=relu, regressor__mlp__hidden_layer_sizes=(64, 128), regressor__mlp__learning_rate_init=0.001, regressor__mlp__solver=lbfgs;, score=-12.851 total time=  14.5s\n",
      "[CV 5/5] END regressor__mlp__activation=relu, regressor__mlp__hidden_layer_sizes=(128, 256), regressor__mlp__learning_rate_init=0.001, regressor__mlp__solver=lbfgs;, score=-17.809 total time=16.8min\n",
      "[CV 4/5] END regressor__mlp__activation=relu, regressor__mlp__hidden_layer_sizes=(64, 128), regressor__mlp__learning_rate_init=0.01, regressor__mlp__solver=adam;, score=-5.774 total time=   2.2s\n",
      "[CV 3/5] END regressor__mlp__activation=relu, regressor__mlp__hidden_layer_sizes=(128, 256), regressor__mlp__learning_rate_init=0.001, regressor__mlp__solver=adam;, score=-6.393 total time=   7.0s\n",
      "[CV 2/5] END regressor__mlp__activation=relu, regressor__mlp__hidden_layer_sizes=(128, 256), regressor__mlp__learning_rate_init=0.001, regressor__mlp__solver=lbfgs;, score=-11.724 total time=17.1min\n",
      "[CV 5/5] END regressor__mlp__activation=relu, regressor__mlp__hidden_layer_sizes=(64, 128), regressor__mlp__learning_rate_init=0.001, regressor__mlp__solver=adam;, score=-3.995 total time=   2.1s\n",
      "[CV 5/5] END regressor__mlp__activation=relu, regressor__mlp__hidden_layer_sizes=(64, 128), regressor__mlp__learning_rate_init=0.01, regressor__mlp__solver=adam;, score=-5.108 total time=   2.5s\n",
      "[CV 4/5] END regressor__mlp__activation=relu, regressor__mlp__hidden_layer_sizes=(128, 256), regressor__mlp__learning_rate_init=0.001, regressor__mlp__solver=adam;, score=-5.511 total time=   7.3s\n",
      "[CV 3/5] END regressor__mlp__activation=relu, regressor__mlp__hidden_layer_sizes=(128, 256), regressor__mlp__learning_rate_init=0.001, regressor__mlp__solver=lbfgs;, score=-13.907 total time=17.1min\n",
      "[CV 2/5] END regressor__mlp__activation=relu, regressor__mlp__hidden_layer_sizes=(64, 128), regressor__mlp__learning_rate_init=0.001, regressor__mlp__solver=lbfgs;, score=-11.279 total time=  12.2s\n",
      "[CV 4/5] END regressor__mlp__activation=relu, regressor__mlp__hidden_layer_sizes=(128, 256), regressor__mlp__learning_rate_init=0.001, regressor__mlp__solver=lbfgs;, score=-12.411 total time=17.1min\n",
      "[CV 1/5] END regressor__mlp__activation=relu, regressor__mlp__hidden_layer_sizes=(64, 128), regressor__mlp__learning_rate_init=0.001, regressor__mlp__solver=adam;, score=-5.280 total time=   2.2s\n",
      "[CV 2/5] END regressor__mlp__activation=relu, regressor__mlp__hidden_layer_sizes=(128, 256), regressor__mlp__learning_rate_init=0.001, regressor__mlp__solver=adam;, score=-4.928 total time=   6.9s\n",
      "[CV 1/5] END regressor__mlp__activation=relu, regressor__mlp__hidden_layer_sizes=(128, 256), regressor__mlp__learning_rate_init=0.001, regressor__mlp__solver=lbfgs;, score=-10.616 total time=17.3min\n",
      "[CV 4/5] END regressor__mlp__activation=relu, regressor__mlp__hidden_layer_sizes=(64, 128), regressor__mlp__learning_rate_init=0.001, regressor__mlp__solver=lbfgs;, score=-9.319 total time=  16.1s\n",
      "[CV 3/5] END regressor__mlp__activation=relu, regressor__mlp__hidden_layer_sizes=(128, 256), regressor__mlp__learning_rate_init=0.01, regressor__mlp__solver=adam;, score=-12.609 total time=   5.9s\n",
      "[CV 5/5] END regressor__mlp__activation=relu, regressor__mlp__hidden_layer_sizes=(128, 256), regressor__mlp__learning_rate_init=0.01, regressor__mlp__solver=lbfgs;, score=-17.809 total time=17.2min\n",
      "[CV 4/5] END regressor__mlp__activation=relu, regressor__mlp__hidden_layer_sizes=(128, 256, 128), regressor__mlp__learning_rate_init=0.01, regressor__mlp__solver=adam;, score=-19.409 total time=15.6min\n",
      "[CV 3/5] END regressor__mlp__activation=tanh, regressor__mlp__hidden_layer_sizes=(64, 128), regressor__mlp__learning_rate_init=0.001, regressor__mlp__solver=adam;, score=-6.602 total time=   7.7s\n",
      "[CV 1/5] END regressor__mlp__activation=tanh, regressor__mlp__hidden_layer_sizes=(64, 128), regressor__mlp__learning_rate_init=0.001, regressor__mlp__solver=lbfgs;, score=-16.591 total time=  44.8s\n",
      "[CV 1/5] END regressor__mlp__activation=relu, regressor__mlp__hidden_layer_sizes=(64, 128), regressor__mlp__learning_rate_init=0.01, regressor__mlp__solver=adam;, score=-5.091 total time=   2.2s\n",
      "[CV 1/5] END regressor__mlp__activation=relu, regressor__mlp__hidden_layer_sizes=(128, 256), regressor__mlp__learning_rate_init=0.001, regressor__mlp__solver=adam;, score=-7.269 total time=   6.9s\n",
      "[CV 5/5] END regressor__mlp__activation=relu, regressor__mlp__hidden_layer_sizes=(128, 256), regressor__mlp__learning_rate_init=0.001, regressor__mlp__solver=adam;, score=-4.660 total time=   6.7s\n",
      "[CV 1/5] END regressor__mlp__activation=relu, regressor__mlp__hidden_layer_sizes=(128, 256), regressor__mlp__learning_rate_init=0.01, regressor__mlp__solver=adam;, score=-9.571 total time=   8.1s\n",
      "[CV 3/5] END regressor__mlp__activation=relu, regressor__mlp__hidden_layer_sizes=(128, 256, 128), regressor__mlp__learning_rate_init=0.001, regressor__mlp__solver=adam;, score=-4.031 total time=16.7min\n",
      "[CV 3/5] END regressor__mlp__activation=relu, regressor__mlp__hidden_layer_sizes=(128, 256, 128), regressor__mlp__learning_rate_init=0.001, regressor__mlp__solver=lbfgs;, score=-11.914 total time=17.6min\n",
      "[CV 1/5] END regressor__mlp__activation=tanh, regressor__mlp__hidden_layer_sizes=(64, 128), regressor__mlp__learning_rate_init=0.01, regressor__mlp__solver=adam;, score=-7.533 total time=   6.1s\n",
      "[CV 3/5] END regressor__mlp__activation=tanh, regressor__mlp__hidden_layer_sizes=(64, 128), regressor__mlp__learning_rate_init=0.01, regressor__mlp__solver=adam;, score=-16.475 total time=   6.3s\n",
      "[CV 5/5] END regressor__mlp__activation=tanh, regressor__mlp__hidden_layer_sizes=(64, 128), regressor__mlp__learning_rate_init=0.01, regressor__mlp__solver=adam;, score=-13.670 total time=   6.4s\n",
      "[CV 2/5] END regressor__mlp__activation=tanh, regressor__mlp__hidden_layer_sizes=(64, 128), regressor__mlp__learning_rate_init=0.01, regressor__mlp__solver=lbfgs;, score=-17.222 total time=  39.9s\n",
      "[CV 5/5] END regressor__mlp__activation=relu, regressor__mlp__hidden_layer_sizes=(64, 128), regressor__mlp__learning_rate_init=0.001, regressor__mlp__solver=lbfgs;, score=-7.655 total time=  17.1s\n",
      "[CV 5/5] END regressor__mlp__activation=relu, regressor__mlp__hidden_layer_sizes=(128, 256), regressor__mlp__learning_rate_init=0.01, regressor__mlp__solver=adam;, score=-6.744 total time=   5.8s\n",
      "[CV 2/5] END regressor__mlp__activation=relu, regressor__mlp__hidden_layer_sizes=(128, 256, 128), regressor__mlp__learning_rate_init=0.001, regressor__mlp__solver=adam;, score=-4.775 total time=16.6min\n",
      "[CV 5/5] END regressor__mlp__activation=relu, regressor__mlp__hidden_layer_sizes=(128, 256, 128), regressor__mlp__learning_rate_init=0.001, regressor__mlp__solver=adam;, score=-11.653 total time=  26.1s\n",
      "[CV 3/5] END regressor__mlp__activation=relu, regressor__mlp__hidden_layer_sizes=(128, 256, 128), regressor__mlp__learning_rate_init=0.01, regressor__mlp__solver=adam;, score=-12.342 total time=15.6min\n",
      "[CV 1/5] END regressor__mlp__activation=tanh, regressor__mlp__hidden_layer_sizes=(64, 128), regressor__mlp__learning_rate_init=0.001, regressor__mlp__solver=adam;, score=-6.632 total time=   8.2s\n",
      "[CV 4/5] END regressor__mlp__activation=tanh, regressor__mlp__hidden_layer_sizes=(64, 128), regressor__mlp__learning_rate_init=0.001, regressor__mlp__solver=adam;, score=-7.877 total time=   9.1s\n",
      "[CV 3/5] END regressor__mlp__activation=tanh, regressor__mlp__hidden_layer_sizes=(64, 128), regressor__mlp__learning_rate_init=0.001, regressor__mlp__solver=lbfgs;, score=-18.565 total time=  48.0s\n",
      "[CV 2/5] END regressor__mlp__activation=tanh, regressor__mlp__hidden_layer_sizes=(64, 128), regressor__mlp__learning_rate_init=0.01, regressor__mlp__solver=adam;, score=-30.035 total time=   9.9s\n",
      "[CV 1/5] END regressor__mlp__activation=tanh, regressor__mlp__hidden_layer_sizes=(64, 128), regressor__mlp__learning_rate_init=0.01, regressor__mlp__solver=lbfgs;, score=-16.591 total time=  47.7s\n",
      "[CV 3/5] END regressor__mlp__activation=relu, regressor__mlp__hidden_layer_sizes=(64, 128), regressor__mlp__learning_rate_init=0.001, regressor__mlp__solver=lbfgs;, score=-11.229 total time=  16.8s\n",
      "[CV 4/5] END regressor__mlp__activation=relu, regressor__mlp__hidden_layer_sizes=(128, 256), regressor__mlp__learning_rate_init=0.01, regressor__mlp__solver=adam;, score=-4.315 total time=   6.0s\n",
      "[CV 1/5] END regressor__mlp__activation=relu, regressor__mlp__hidden_layer_sizes=(128, 256, 128), regressor__mlp__learning_rate_init=0.001, regressor__mlp__solver=adam;, score=-7.496 total time=16.6min\n",
      "[CV 1/5] END regressor__mlp__activation=relu, regressor__mlp__hidden_layer_sizes=(128, 256, 128), regressor__mlp__learning_rate_init=0.001, regressor__mlp__solver=lbfgs;, score=-12.137 total time=18.3min\n",
      "[CV 2/5] END regressor__mlp__activation=relu, regressor__mlp__hidden_layer_sizes=(128, 256), regressor__mlp__learning_rate_init=0.01, regressor__mlp__solver=adam;, score=-6.292 total time=   7.3s\n",
      "[CV 4/5] END regressor__mlp__activation=relu, regressor__mlp__hidden_layer_sizes=(128, 256, 128), regressor__mlp__learning_rate_init=0.001, regressor__mlp__solver=adam;, score=-7.078 total time=16.7min\n",
      "[CV 4/5] END regressor__mlp__activation=relu, regressor__mlp__hidden_layer_sizes=(128, 256, 128), regressor__mlp__learning_rate_init=0.001, regressor__mlp__solver=lbfgs;, score=-10.604 total time=18.2min\n",
      "[CV 1/5] END regressor__mlp__activation=relu, regressor__mlp__hidden_layer_sizes=(128, 256, 128), regressor__mlp__learning_rate_init=0.01, regressor__mlp__solver=adam;, score=-6.080 total time=  27.2s\n",
      "[CV 4/5] END regressor__mlp__activation=relu, regressor__mlp__hidden_layer_sizes=(128, 256, 128), regressor__mlp__learning_rate_init=0.01, regressor__mlp__solver=lbfgs;, score=-10.604 total time=18.1min\n",
      "[CV 1/5] END regressor__mlp__activation=relu, regressor__mlp__hidden_layer_sizes=(128, 256), regressor__mlp__learning_rate_init=0.01, regressor__mlp__solver=lbfgs;, score=-10.616 total time=32.8min\n",
      "[CV 2/5] END regressor__mlp__activation=tanh, regressor__mlp__hidden_layer_sizes=(64, 128), regressor__mlp__learning_rate_init=0.001, regressor__mlp__solver=adam;, score=-7.071 total time=   8.8s\n",
      "[CV 2/5] END regressor__mlp__activation=tanh, regressor__mlp__hidden_layer_sizes=(64, 128), regressor__mlp__learning_rate_init=0.001, regressor__mlp__solver=lbfgs;, score=-17.222 total time=  38.6s\n",
      "[CV 5/5] END regressor__mlp__activation=tanh, regressor__mlp__hidden_layer_sizes=(64, 128), regressor__mlp__learning_rate_init=0.001, regressor__mlp__solver=lbfgs;, score=-32.340 total time=  25.8s\n",
      "[CV 3/5] END regressor__mlp__activation=tanh, regressor__mlp__hidden_layer_sizes=(64, 128), regressor__mlp__learning_rate_init=0.01, regressor__mlp__solver=lbfgs;, score=-18.565 total time=  50.1s\n",
      "[CV 2/5] END regressor__mlp__activation=tanh, regressor__mlp__hidden_layer_sizes=(128, 256), regressor__mlp__learning_rate_init=0.001, regressor__mlp__solver=lbfgs;, score=-16.946 total time=  53.1s\n",
      "[CV 3/5] END regressor__mlp__activation=tanh, regressor__mlp__hidden_layer_sizes=(128, 256), regressor__mlp__learning_rate_init=0.001, regressor__mlp__solver=adam;, score=-5.084 total time=  18.5s\n",
      "[CV 4/5] END regressor__mlp__activation=tanh, regressor__mlp__hidden_layer_sizes=(128, 256), regressor__mlp__learning_rate_init=0.001, regressor__mlp__solver=lbfgs;, score=-16.242 total time=  51.2s\n",
      "[CV 4/5] END regressor__mlp__activation=relu, regressor__mlp__hidden_layer_sizes=(128, 256), regressor__mlp__learning_rate_init=0.01, regressor__mlp__solver=lbfgs;, score=-12.411 total time=17.2min\n",
      "[CV 5/5] END regressor__mlp__activation=relu, regressor__mlp__hidden_layer_sizes=(128, 256, 128), regressor__mlp__learning_rate_init=0.01, regressor__mlp__solver=adam;, score=-6.270 total time=15.6min\n",
      "[CV 5/5] END regressor__mlp__activation=tanh, regressor__mlp__hidden_layer_sizes=(64, 128), regressor__mlp__learning_rate_init=0.001, regressor__mlp__solver=adam;, score=-5.410 total time=   8.3s\n",
      "[CV 4/5] END regressor__mlp__activation=tanh, regressor__mlp__hidden_layer_sizes=(64, 128), regressor__mlp__learning_rate_init=0.001, regressor__mlp__solver=lbfgs;, score=-14.307 total time=  49.6s\n",
      "[CV 4/5] END regressor__mlp__activation=tanh, regressor__mlp__hidden_layer_sizes=(64, 128), regressor__mlp__learning_rate_init=0.01, regressor__mlp__solver=adam;, score=-15.575 total time=   9.4s\n",
      "[CV 4/5] END regressor__mlp__activation=tanh, regressor__mlp__hidden_layer_sizes=(64, 128), regressor__mlp__learning_rate_init=0.01, regressor__mlp__solver=lbfgs;, score=-14.307 total time=  50.7s\n",
      "[CV 3/5] END regressor__mlp__activation=tanh, regressor__mlp__hidden_layer_sizes=(128, 256), regressor__mlp__learning_rate_init=0.001, regressor__mlp__solver=lbfgs;, score=-19.264 total time= 1.1min\n",
      "[CV 2/5] END regressor__mlp__activation=relu, regressor__mlp__hidden_layer_sizes=(128, 256, 128), regressor__mlp__learning_rate_init=0.01, regressor__mlp__solver=adam;, score=-5.108 total time=15.5min\n",
      "[CV 5/5] END regressor__mlp__activation=relu, regressor__mlp__hidden_layer_sizes=(128, 256, 128), regressor__mlp__learning_rate_init=0.01, regressor__mlp__solver=lbfgs;, score=-9.229 total time= 3.5min\n",
      "[CV 2/5] END regressor__mlp__activation=tanh, regressor__mlp__hidden_layer_sizes=(128, 256), regressor__mlp__learning_rate_init=0.01, regressor__mlp__solver=adam;, score=-9.981 total time=  18.4s\n",
      "[CV 2/5] END regressor__mlp__activation=tanh, regressor__mlp__hidden_layer_sizes=(128, 256), regressor__mlp__learning_rate_init=0.01, regressor__mlp__solver=lbfgs;, score=-16.946 total time=  51.0s\n",
      "[CV 1/5] END regressor__mlp__activation=tanh, regressor__mlp__hidden_layer_sizes=(128, 256), regressor__mlp__learning_rate_init=0.001, regressor__mlp__solver=adam;, score=-6.615 total time=  15.0s\n",
      "[CV 4/5] END regressor__mlp__activation=tanh, regressor__mlp__hidden_layer_sizes=(128, 256), regressor__mlp__learning_rate_init=0.001, regressor__mlp__solver=adam;, score=-9.185 total time=  18.5s\n",
      "[CV 3/5] END regressor__mlp__activation=tanh, regressor__mlp__hidden_layer_sizes=(128, 256), regressor__mlp__learning_rate_init=0.01, regressor__mlp__solver=adam;, score=-5.537 total time=  19.5s\n",
      "[CV 4/5] END regressor__mlp__activation=tanh, regressor__mlp__hidden_layer_sizes=(128, 256), regressor__mlp__learning_rate_init=0.01, regressor__mlp__solver=lbfgs;, score=-16.242 total time=  51.4s\n",
      "[CV 1/5] END regressor__mlp__activation=tanh, regressor__mlp__hidden_layer_sizes=(128, 256), regressor__mlp__learning_rate_init=0.01, regressor__mlp__solver=adam;, score=-9.848 total time=  19.0s\n",
      "[CV 1/5] END regressor__mlp__activation=tanh, regressor__mlp__hidden_layer_sizes=(128, 256), regressor__mlp__learning_rate_init=0.01, regressor__mlp__solver=lbfgs;, score=-19.319 total time=  59.4s\n",
      "[CV 2/5] END regressor__mlp__activation=relu, regressor__mlp__hidden_layer_sizes=(128, 256), regressor__mlp__learning_rate_init=0.01, regressor__mlp__solver=lbfgs;, score=-11.724 total time=17.4min\n",
      "[CV 2/5] END regressor__mlp__activation=relu, regressor__mlp__hidden_layer_sizes=(128, 256, 128), regressor__mlp__learning_rate_init=0.01, regressor__mlp__solver=lbfgs;, score=-10.475 total time=17.9min\n",
      "[CV 3/5] END regressor__mlp__activation=tanh, regressor__mlp__hidden_layer_sizes=(128, 256), regressor__mlp__learning_rate_init=0.01, regressor__mlp__solver=lbfgs;, score=-19.264 total time= 1.1min\n",
      "[CV 5/5] END regressor__mlp__activation=tanh, regressor__mlp__hidden_layer_sizes=(128, 256), regressor__mlp__learning_rate_init=0.001, regressor__mlp__solver=adam;, score=-3.865 total time=  18.7s\n",
      "[CV 4/5] END regressor__mlp__activation=tanh, regressor__mlp__hidden_layer_sizes=(128, 256), regressor__mlp__learning_rate_init=0.01, regressor__mlp__solver=adam;, score=-7.297 total time=  19.0s\n",
      "[CV 5/5] END regressor__mlp__activation=tanh, regressor__mlp__hidden_layer_sizes=(128, 256), regressor__mlp__learning_rate_init=0.01, regressor__mlp__solver=lbfgs;, score=-18.083 total time= 1.1min\n",
      "[CV 3/5] END regressor__mlp__activation=relu, regressor__mlp__hidden_layer_sizes=(128, 256), regressor__mlp__learning_rate_init=0.01, regressor__mlp__solver=lbfgs;, score=-13.907 total time=17.4min\n",
      "[CV 3/5] END regressor__mlp__activation=relu, regressor__mlp__hidden_layer_sizes=(128, 256, 128), regressor__mlp__learning_rate_init=0.01, regressor__mlp__solver=lbfgs;, score=-11.914 total time=17.9min\n",
      "[CV 5/5] END regressor__mlp__activation=tanh, regressor__mlp__hidden_layer_sizes=(128, 256), regressor__mlp__learning_rate_init=0.01, regressor__mlp__solver=adam;, score=-5.516 total time=  17.9s\n",
      "[CV 2/5] END regressor__mlp__activation=tanh, regressor__mlp__hidden_layer_sizes=(128, 256, 128), regressor__mlp__learning_rate_init=0.001, regressor__mlp__solver=adam;, score=-12.877 total time=  31.0s\n",
      "[CV 5/5] END regressor__mlp__activation=tanh, regressor__mlp__hidden_layer_sizes=(128, 256, 128), regressor__mlp__learning_rate_init=0.001, regressor__mlp__solver=lbfgs;, score=-15.183 total time= 2.4min\n",
      "[CV 1/5] END regressor__mlp__activation=tanh, regressor__mlp__hidden_layer_sizes=(128, 256, 128), regressor__mlp__learning_rate_init=0.001, regressor__mlp__solver=adam;, score=-24.117 total time=  28.8s\n",
      "[CV 3/5] END regressor__mlp__activation=tanh, regressor__mlp__hidden_layer_sizes=(128, 256, 128), regressor__mlp__learning_rate_init=0.001, regressor__mlp__solver=lbfgs;, score=-15.657 total time= 2.5min\n",
      "[CV 2/5] END regressor__mlp__activation=relu, regressor__mlp__hidden_layer_sizes=(128, 256, 128), regressor__mlp__learning_rate_init=0.001, regressor__mlp__solver=lbfgs;, score=-10.475 total time=17.4min\n",
      "[CV 5/5] END regressor__mlp__activation=tanh, regressor__mlp__hidden_layer_sizes=(64, 128), regressor__mlp__learning_rate_init=0.01, regressor__mlp__solver=lbfgs;, score=-32.340 total time=  27.3s\n",
      "[CV 2/5] END regressor__mlp__activation=tanh, regressor__mlp__hidden_layer_sizes=(128, 256), regressor__mlp__learning_rate_init=0.001, regressor__mlp__solver=adam;, score=-10.029 total time=  20.7s\n",
      "[CV 5/5] END regressor__mlp__activation=tanh, regressor__mlp__hidden_layer_sizes=(128, 256), regressor__mlp__learning_rate_init=0.001, regressor__mlp__solver=lbfgs;, score=-18.083 total time= 1.1min\n",
      "[CV 4/5] END regressor__mlp__activation=tanh, regressor__mlp__hidden_layer_sizes=(128, 256, 128), regressor__mlp__learning_rate_init=0.001, regressor__mlp__solver=lbfgs;, score=-8.440 total time= 2.5min\n",
      "[CV 1/5] END regressor__mlp__activation=tanh, regressor__mlp__hidden_layer_sizes=(128, 256, 128), regressor__mlp__learning_rate_init=0.01, regressor__mlp__solver=adam;, score=-18.104 total time=  31.1s\n",
      "[CV 5/5] END regressor__mlp__activation=tanh, regressor__mlp__hidden_layer_sizes=(128, 256, 128), regressor__mlp__learning_rate_init=0.01, regressor__mlp__solver=lbfgs;, score=-15.183 total time= 2.0min\n"
     ]
    },
    {
     "name": "stderr",
     "output_type": "stream",
     "text": [
      "/Users/minhanh29/anaconda3/envs/tts/lib/python3.10/site-packages/sklearn/model_selection/_search.py:409: VisibleDeprecationWarning: Creating an ndarray from ragged nested sequences (which is a list-or-tuple of lists-or-tuples-or ndarrays with different lengths or shapes) is deprecated. If you meant to do this, you must specify 'dtype=object' when creating the ndarray.\n",
      "  arr = np.array(param_list)\n"
     ]
    },
    {
     "name": "stdout",
     "output_type": "stream",
     "text": [
      "Results for MinMaxScaler:\n",
      "  Best Parameters: {'regressor__mlp__activation': 'relu', 'regressor__mlp__hidden_layer_sizes': (64, 128), 'regressor__mlp__learning_rate_init': 0.001, 'regressor__mlp__solver': 'adam'}\n",
      "  Test MSE: 6.5689\n",
      "  Test MAE: 0.8989\n",
      "  Test R²: 0.9431\n",
      "\n"
     ]
    }
   ],
   "source": [
    "results = {}\n",
    "\n",
    "# Loop over the scaling options\n",
    "for scaler_name, (x_scaler, y_scaler) in scalers.items():\n",
    "    print(f\"Running grid search with {scaler_name} for both features and target...\")\n",
    "    \n",
    "    # Create a pipeline for the features:\n",
    "    # First, scale the features, then apply the MLPRegressor.\n",
    "    pipeline = Pipeline([\n",
    "        ('scaler', x_scaler),\n",
    "        ('mlp', MLPRegressor(max_iter=500, random_state=42))\n",
    "    ])\n",
    "    \n",
    "    # Wrap the pipeline with TransformedTargetRegressor to scale the target values.\n",
    "    # This ensures that during prediction, the outputs are automatically inverse transformed\n",
    "    # back to the original (unnormalized) space.\n",
    "    tt_reg = TransformedTargetRegressor(regressor=pipeline, transformer=y_scaler)\n",
    "    \n",
    "    # Set up GridSearchCV for the current pipeline\n",
    "    grid_search = GridSearchCV(estimator=tt_reg,\n",
    "                               param_grid=param_grid,\n",
    "                               cv=kfold,\n",
    "                               scoring='neg_mean_squared_error',\n",
    "                               n_jobs=-1,\n",
    "                               verbose=3)\n",
    "    \n",
    "    # Fit the grid search on the training data\n",
    "    grid_search.fit(X_train, y_train)\n",
    "    \n",
    "    # Predict on the test set; note that predictions are automatically inverse-transformed.\n",
    "    y_pred = grid_search.predict(X_test)\n",
    "    \n",
    "    # Compute evaluation metrics on the unscaled values\n",
    "    mse = mean_squared_error(y_test, y_pred)\n",
    "    mae = mean_absolute_error(y_test, y_pred)\n",
    "    r2 = r2_score(y_test, y_pred)\n",
    "    \n",
    "    results[scaler_name] = {\n",
    "        'grid_search': grid_search,\n",
    "        'mse': mse,\n",
    "        'mae': mae,\n",
    "        'r2': r2,\n",
    "        'best_params': grid_search.best_params_\n",
    "    }\n",
    "    \n",
    "    print(f\"Results for {scaler_name}:\")\n",
    "    print(f\"  Best Parameters: {grid_search.best_params_}\")\n",
    "    print(f\"  Test MSE: {mse:.4f}\")\n",
    "    print(f\"  Test MAE: {mae:.4f}\")\n",
    "    print(f\"  Test R²: {r2:.4f}\\n\")"
   ]
  },
  {
   "cell_type": "code",
   "execution_count": 34,
   "id": "6d9e6514-ad12-4308-8a86-c6e4e3dc7796",
   "metadata": {},
   "outputs": [
    {
     "data": {
      "text/plain": [
       "['mlp_model.pkl']"
      ]
     },
     "execution_count": 34,
     "metadata": {},
     "output_type": "execute_result"
    }
   ],
   "source": [
    "# Save the best MLP model\n",
    "joblib.dump(grid_search.best_estimator_, './checkpoints/mlp_model.pkl')"
   ]
  },
  {
   "cell_type": "markdown",
   "id": "89fd4521-f9b5-45b3-980b-bb7567c2d61e",
   "metadata": {},
   "source": [
    "#### Train best params model on full training data"
   ]
  },
  {
   "cell_type": "code",
   "execution_count": 4,
   "id": "37210abd-8b1d-4e2e-88e4-0e223f18eab9",
   "metadata": {},
   "outputs": [],
   "source": [
    "x_scaler = StandardScaler()\n",
    "y_scaler = StandardScaler()\n",
    "\n",
    "x_scaler.fit(X_train)\n",
    "y_scaler.fit(y_train)\n",
    "X_train_transformed = x_scaler.transform(X_train)\n",
    "X_test_transformed = x_scaler.transform(X_test)\n",
    "y_train_transformed = y_scaler.transform(y_train)"
   ]
  },
  {
   "cell_type": "code",
   "execution_count": 5,
   "id": "1d91f2ee-6e2d-4c39-98cc-913bbd660940",
   "metadata": {},
   "outputs": [
    {
     "data": {
      "text/plain": [
       "array([[-0.88700646, -0.03041644, -0.23173864, ..., -0.64636844,\n",
       "         2.32774421, -1.01283628],\n",
       "       [ 0.33417649, -0.28979127, -0.19283918, ..., -0.64636844,\n",
       "         2.32774421, -1.01283628],\n",
       "       [ 0.33417649, -0.21339126, -0.22067937, ...,  1.54710523,\n",
       "        -0.42960047, -1.01283628],\n",
       "       ...,\n",
       "       [-0.88700646, -0.14978573, -0.18876875, ..., -0.64636844,\n",
       "        -0.42960047, -1.01283628],\n",
       "       [-0.88700646, -0.15826952, -0.23853549, ..., -0.64636844,\n",
       "         2.32774421, -1.01283628],\n",
       "       [-0.88700646, -0.30295261, -0.24210671, ..., -0.64636844,\n",
       "        -0.42960047,  0.98732641]])"
      ]
     },
     "execution_count": 5,
     "metadata": {},
     "output_type": "execute_result"
    }
   ],
   "source": [
    "X_train_transformed"
   ]
  },
  {
   "cell_type": "code",
   "execution_count": 6,
   "id": "58b3432d-19d5-491f-b9ae-9172587d5377",
   "metadata": {},
   "outputs": [
    {
     "data": {
      "text/plain": [
       "array([[ 0.08457314,  0.31747617,  0.26980409,  0.11636966],\n",
       "       [-0.1378209 , -0.16049027, -0.1577441 , -0.14071574],\n",
       "       [-0.15949035, -0.24089412, -0.22688975, -0.17272671],\n",
       "       ...,\n",
       "       [-0.18451346, -0.30781913, -0.28519817, -0.20371039],\n",
       "       [-0.07854069, -0.01295726, -0.02466216, -0.086304  ],\n",
       "       [-0.19031977, -0.29341884, -0.27329912, -0.21269237]])"
      ]
     },
     "execution_count": 6,
     "metadata": {},
     "output_type": "execute_result"
    }
   ],
   "source": [
    "y_train_transformed"
   ]
  },
  {
   "cell_type": "code",
   "execution_count": 14,
   "id": "f1289758-8a7d-4562-8888-270f3919bdb0",
   "metadata": {},
   "outputs": [],
   "source": [
    "# best params\n",
    "mlp = MLPRegressor(\n",
    "    max_iter=500, \n",
    "    random_state=42,\n",
    "    activation='relu',\n",
    "    hidden_layer_sizes=(128, 256, 128),\n",
    "    learning_rate_init=0.001,\n",
    "    solver='adam'\n",
    ")"
   ]
  },
  {
   "cell_type": "code",
   "execution_count": 15,
   "id": "1abd9b41-3659-4d84-b0d9-d0ebb1038be0",
   "metadata": {},
   "outputs": [
    {
     "data": {
      "text/html": [
       "<style>#sk-container-id-2 {\n",
       "  /* Definition of color scheme common for light and dark mode */\n",
       "  --sklearn-color-text: #000;\n",
       "  --sklearn-color-text-muted: #666;\n",
       "  --sklearn-color-line: gray;\n",
       "  /* Definition of color scheme for unfitted estimators */\n",
       "  --sklearn-color-unfitted-level-0: #fff5e6;\n",
       "  --sklearn-color-unfitted-level-1: #f6e4d2;\n",
       "  --sklearn-color-unfitted-level-2: #ffe0b3;\n",
       "  --sklearn-color-unfitted-level-3: chocolate;\n",
       "  /* Definition of color scheme for fitted estimators */\n",
       "  --sklearn-color-fitted-level-0: #f0f8ff;\n",
       "  --sklearn-color-fitted-level-1: #d4ebff;\n",
       "  --sklearn-color-fitted-level-2: #b3dbfd;\n",
       "  --sklearn-color-fitted-level-3: cornflowerblue;\n",
       "\n",
       "  /* Specific color for light theme */\n",
       "  --sklearn-color-text-on-default-background: var(--sg-text-color, var(--theme-code-foreground, var(--jp-content-font-color1, black)));\n",
       "  --sklearn-color-background: var(--sg-background-color, var(--theme-background, var(--jp-layout-color0, white)));\n",
       "  --sklearn-color-border-box: var(--sg-text-color, var(--theme-code-foreground, var(--jp-content-font-color1, black)));\n",
       "  --sklearn-color-icon: #696969;\n",
       "\n",
       "  @media (prefers-color-scheme: dark) {\n",
       "    /* Redefinition of color scheme for dark theme */\n",
       "    --sklearn-color-text-on-default-background: var(--sg-text-color, var(--theme-code-foreground, var(--jp-content-font-color1, white)));\n",
       "    --sklearn-color-background: var(--sg-background-color, var(--theme-background, var(--jp-layout-color0, #111)));\n",
       "    --sklearn-color-border-box: var(--sg-text-color, var(--theme-code-foreground, var(--jp-content-font-color1, white)));\n",
       "    --sklearn-color-icon: #878787;\n",
       "  }\n",
       "}\n",
       "\n",
       "#sk-container-id-2 {\n",
       "  color: var(--sklearn-color-text);\n",
       "}\n",
       "\n",
       "#sk-container-id-2 pre {\n",
       "  padding: 0;\n",
       "}\n",
       "\n",
       "#sk-container-id-2 input.sk-hidden--visually {\n",
       "  border: 0;\n",
       "  clip: rect(1px 1px 1px 1px);\n",
       "  clip: rect(1px, 1px, 1px, 1px);\n",
       "  height: 1px;\n",
       "  margin: -1px;\n",
       "  overflow: hidden;\n",
       "  padding: 0;\n",
       "  position: absolute;\n",
       "  width: 1px;\n",
       "}\n",
       "\n",
       "#sk-container-id-2 div.sk-dashed-wrapped {\n",
       "  border: 1px dashed var(--sklearn-color-line);\n",
       "  margin: 0 0.4em 0.5em 0.4em;\n",
       "  box-sizing: border-box;\n",
       "  padding-bottom: 0.4em;\n",
       "  background-color: var(--sklearn-color-background);\n",
       "}\n",
       "\n",
       "#sk-container-id-2 div.sk-container {\n",
       "  /* jupyter's `normalize.less` sets `[hidden] { display: none; }`\n",
       "     but bootstrap.min.css set `[hidden] { display: none !important; }`\n",
       "     so we also need the `!important` here to be able to override the\n",
       "     default hidden behavior on the sphinx rendered scikit-learn.org.\n",
       "     See: https://github.com/scikit-learn/scikit-learn/issues/21755 */\n",
       "  display: inline-block !important;\n",
       "  position: relative;\n",
       "}\n",
       "\n",
       "#sk-container-id-2 div.sk-text-repr-fallback {\n",
       "  display: none;\n",
       "}\n",
       "\n",
       "div.sk-parallel-item,\n",
       "div.sk-serial,\n",
       "div.sk-item {\n",
       "  /* draw centered vertical line to link estimators */\n",
       "  background-image: linear-gradient(var(--sklearn-color-text-on-default-background), var(--sklearn-color-text-on-default-background));\n",
       "  background-size: 2px 100%;\n",
       "  background-repeat: no-repeat;\n",
       "  background-position: center center;\n",
       "}\n",
       "\n",
       "/* Parallel-specific style estimator block */\n",
       "\n",
       "#sk-container-id-2 div.sk-parallel-item::after {\n",
       "  content: \"\";\n",
       "  width: 100%;\n",
       "  border-bottom: 2px solid var(--sklearn-color-text-on-default-background);\n",
       "  flex-grow: 1;\n",
       "}\n",
       "\n",
       "#sk-container-id-2 div.sk-parallel {\n",
       "  display: flex;\n",
       "  align-items: stretch;\n",
       "  justify-content: center;\n",
       "  background-color: var(--sklearn-color-background);\n",
       "  position: relative;\n",
       "}\n",
       "\n",
       "#sk-container-id-2 div.sk-parallel-item {\n",
       "  display: flex;\n",
       "  flex-direction: column;\n",
       "}\n",
       "\n",
       "#sk-container-id-2 div.sk-parallel-item:first-child::after {\n",
       "  align-self: flex-end;\n",
       "  width: 50%;\n",
       "}\n",
       "\n",
       "#sk-container-id-2 div.sk-parallel-item:last-child::after {\n",
       "  align-self: flex-start;\n",
       "  width: 50%;\n",
       "}\n",
       "\n",
       "#sk-container-id-2 div.sk-parallel-item:only-child::after {\n",
       "  width: 0;\n",
       "}\n",
       "\n",
       "/* Serial-specific style estimator block */\n",
       "\n",
       "#sk-container-id-2 div.sk-serial {\n",
       "  display: flex;\n",
       "  flex-direction: column;\n",
       "  align-items: center;\n",
       "  background-color: var(--sklearn-color-background);\n",
       "  padding-right: 1em;\n",
       "  padding-left: 1em;\n",
       "}\n",
       "\n",
       "\n",
       "/* Toggleable style: style used for estimator/Pipeline/ColumnTransformer box that is\n",
       "clickable and can be expanded/collapsed.\n",
       "- Pipeline and ColumnTransformer use this feature and define the default style\n",
       "- Estimators will overwrite some part of the style using the `sk-estimator` class\n",
       "*/\n",
       "\n",
       "/* Pipeline and ColumnTransformer style (default) */\n",
       "\n",
       "#sk-container-id-2 div.sk-toggleable {\n",
       "  /* Default theme specific background. It is overwritten whether we have a\n",
       "  specific estimator or a Pipeline/ColumnTransformer */\n",
       "  background-color: var(--sklearn-color-background);\n",
       "}\n",
       "\n",
       "/* Toggleable label */\n",
       "#sk-container-id-2 label.sk-toggleable__label {\n",
       "  cursor: pointer;\n",
       "  display: flex;\n",
       "  width: 100%;\n",
       "  margin-bottom: 0;\n",
       "  padding: 0.5em;\n",
       "  box-sizing: border-box;\n",
       "  text-align: center;\n",
       "  align-items: start;\n",
       "  justify-content: space-between;\n",
       "  gap: 0.5em;\n",
       "}\n",
       "\n",
       "#sk-container-id-2 label.sk-toggleable__label .caption {\n",
       "  font-size: 0.6rem;\n",
       "  font-weight: lighter;\n",
       "  color: var(--sklearn-color-text-muted);\n",
       "}\n",
       "\n",
       "#sk-container-id-2 label.sk-toggleable__label-arrow:before {\n",
       "  /* Arrow on the left of the label */\n",
       "  content: \"▸\";\n",
       "  float: left;\n",
       "  margin-right: 0.25em;\n",
       "  color: var(--sklearn-color-icon);\n",
       "}\n",
       "\n",
       "#sk-container-id-2 label.sk-toggleable__label-arrow:hover:before {\n",
       "  color: var(--sklearn-color-text);\n",
       "}\n",
       "\n",
       "/* Toggleable content - dropdown */\n",
       "\n",
       "#sk-container-id-2 div.sk-toggleable__content {\n",
       "  max-height: 0;\n",
       "  max-width: 0;\n",
       "  overflow: hidden;\n",
       "  text-align: left;\n",
       "  /* unfitted */\n",
       "  background-color: var(--sklearn-color-unfitted-level-0);\n",
       "}\n",
       "\n",
       "#sk-container-id-2 div.sk-toggleable__content.fitted {\n",
       "  /* fitted */\n",
       "  background-color: var(--sklearn-color-fitted-level-0);\n",
       "}\n",
       "\n",
       "#sk-container-id-2 div.sk-toggleable__content pre {\n",
       "  margin: 0.2em;\n",
       "  border-radius: 0.25em;\n",
       "  color: var(--sklearn-color-text);\n",
       "  /* unfitted */\n",
       "  background-color: var(--sklearn-color-unfitted-level-0);\n",
       "}\n",
       "\n",
       "#sk-container-id-2 div.sk-toggleable__content.fitted pre {\n",
       "  /* unfitted */\n",
       "  background-color: var(--sklearn-color-fitted-level-0);\n",
       "}\n",
       "\n",
       "#sk-container-id-2 input.sk-toggleable__control:checked~div.sk-toggleable__content {\n",
       "  /* Expand drop-down */\n",
       "  max-height: 200px;\n",
       "  max-width: 100%;\n",
       "  overflow: auto;\n",
       "}\n",
       "\n",
       "#sk-container-id-2 input.sk-toggleable__control:checked~label.sk-toggleable__label-arrow:before {\n",
       "  content: \"▾\";\n",
       "}\n",
       "\n",
       "/* Pipeline/ColumnTransformer-specific style */\n",
       "\n",
       "#sk-container-id-2 div.sk-label input.sk-toggleable__control:checked~label.sk-toggleable__label {\n",
       "  color: var(--sklearn-color-text);\n",
       "  background-color: var(--sklearn-color-unfitted-level-2);\n",
       "}\n",
       "\n",
       "#sk-container-id-2 div.sk-label.fitted input.sk-toggleable__control:checked~label.sk-toggleable__label {\n",
       "  background-color: var(--sklearn-color-fitted-level-2);\n",
       "}\n",
       "\n",
       "/* Estimator-specific style */\n",
       "\n",
       "/* Colorize estimator box */\n",
       "#sk-container-id-2 div.sk-estimator input.sk-toggleable__control:checked~label.sk-toggleable__label {\n",
       "  /* unfitted */\n",
       "  background-color: var(--sklearn-color-unfitted-level-2);\n",
       "}\n",
       "\n",
       "#sk-container-id-2 div.sk-estimator.fitted input.sk-toggleable__control:checked~label.sk-toggleable__label {\n",
       "  /* fitted */\n",
       "  background-color: var(--sklearn-color-fitted-level-2);\n",
       "}\n",
       "\n",
       "#sk-container-id-2 div.sk-label label.sk-toggleable__label,\n",
       "#sk-container-id-2 div.sk-label label {\n",
       "  /* The background is the default theme color */\n",
       "  color: var(--sklearn-color-text-on-default-background);\n",
       "}\n",
       "\n",
       "/* On hover, darken the color of the background */\n",
       "#sk-container-id-2 div.sk-label:hover label.sk-toggleable__label {\n",
       "  color: var(--sklearn-color-text);\n",
       "  background-color: var(--sklearn-color-unfitted-level-2);\n",
       "}\n",
       "\n",
       "/* Label box, darken color on hover, fitted */\n",
       "#sk-container-id-2 div.sk-label.fitted:hover label.sk-toggleable__label.fitted {\n",
       "  color: var(--sklearn-color-text);\n",
       "  background-color: var(--sklearn-color-fitted-level-2);\n",
       "}\n",
       "\n",
       "/* Estimator label */\n",
       "\n",
       "#sk-container-id-2 div.sk-label label {\n",
       "  font-family: monospace;\n",
       "  font-weight: bold;\n",
       "  display: inline-block;\n",
       "  line-height: 1.2em;\n",
       "}\n",
       "\n",
       "#sk-container-id-2 div.sk-label-container {\n",
       "  text-align: center;\n",
       "}\n",
       "\n",
       "/* Estimator-specific */\n",
       "#sk-container-id-2 div.sk-estimator {\n",
       "  font-family: monospace;\n",
       "  border: 1px dotted var(--sklearn-color-border-box);\n",
       "  border-radius: 0.25em;\n",
       "  box-sizing: border-box;\n",
       "  margin-bottom: 0.5em;\n",
       "  /* unfitted */\n",
       "  background-color: var(--sklearn-color-unfitted-level-0);\n",
       "}\n",
       "\n",
       "#sk-container-id-2 div.sk-estimator.fitted {\n",
       "  /* fitted */\n",
       "  background-color: var(--sklearn-color-fitted-level-0);\n",
       "}\n",
       "\n",
       "/* on hover */\n",
       "#sk-container-id-2 div.sk-estimator:hover {\n",
       "  /* unfitted */\n",
       "  background-color: var(--sklearn-color-unfitted-level-2);\n",
       "}\n",
       "\n",
       "#sk-container-id-2 div.sk-estimator.fitted:hover {\n",
       "  /* fitted */\n",
       "  background-color: var(--sklearn-color-fitted-level-2);\n",
       "}\n",
       "\n",
       "/* Specification for estimator info (e.g. \"i\" and \"?\") */\n",
       "\n",
       "/* Common style for \"i\" and \"?\" */\n",
       "\n",
       ".sk-estimator-doc-link,\n",
       "a:link.sk-estimator-doc-link,\n",
       "a:visited.sk-estimator-doc-link {\n",
       "  float: right;\n",
       "  font-size: smaller;\n",
       "  line-height: 1em;\n",
       "  font-family: monospace;\n",
       "  background-color: var(--sklearn-color-background);\n",
       "  border-radius: 1em;\n",
       "  height: 1em;\n",
       "  width: 1em;\n",
       "  text-decoration: none !important;\n",
       "  margin-left: 0.5em;\n",
       "  text-align: center;\n",
       "  /* unfitted */\n",
       "  border: var(--sklearn-color-unfitted-level-1) 1pt solid;\n",
       "  color: var(--sklearn-color-unfitted-level-1);\n",
       "}\n",
       "\n",
       ".sk-estimator-doc-link.fitted,\n",
       "a:link.sk-estimator-doc-link.fitted,\n",
       "a:visited.sk-estimator-doc-link.fitted {\n",
       "  /* fitted */\n",
       "  border: var(--sklearn-color-fitted-level-1) 1pt solid;\n",
       "  color: var(--sklearn-color-fitted-level-1);\n",
       "}\n",
       "\n",
       "/* On hover */\n",
       "div.sk-estimator:hover .sk-estimator-doc-link:hover,\n",
       ".sk-estimator-doc-link:hover,\n",
       "div.sk-label-container:hover .sk-estimator-doc-link:hover,\n",
       ".sk-estimator-doc-link:hover {\n",
       "  /* unfitted */\n",
       "  background-color: var(--sklearn-color-unfitted-level-3);\n",
       "  color: var(--sklearn-color-background);\n",
       "  text-decoration: none;\n",
       "}\n",
       "\n",
       "div.sk-estimator.fitted:hover .sk-estimator-doc-link.fitted:hover,\n",
       ".sk-estimator-doc-link.fitted:hover,\n",
       "div.sk-label-container:hover .sk-estimator-doc-link.fitted:hover,\n",
       ".sk-estimator-doc-link.fitted:hover {\n",
       "  /* fitted */\n",
       "  background-color: var(--sklearn-color-fitted-level-3);\n",
       "  color: var(--sklearn-color-background);\n",
       "  text-decoration: none;\n",
       "}\n",
       "\n",
       "/* Span, style for the box shown on hovering the info icon */\n",
       ".sk-estimator-doc-link span {\n",
       "  display: none;\n",
       "  z-index: 9999;\n",
       "  position: relative;\n",
       "  font-weight: normal;\n",
       "  right: .2ex;\n",
       "  padding: .5ex;\n",
       "  margin: .5ex;\n",
       "  width: min-content;\n",
       "  min-width: 20ex;\n",
       "  max-width: 50ex;\n",
       "  color: var(--sklearn-color-text);\n",
       "  box-shadow: 2pt 2pt 4pt #999;\n",
       "  /* unfitted */\n",
       "  background: var(--sklearn-color-unfitted-level-0);\n",
       "  border: .5pt solid var(--sklearn-color-unfitted-level-3);\n",
       "}\n",
       "\n",
       ".sk-estimator-doc-link.fitted span {\n",
       "  /* fitted */\n",
       "  background: var(--sklearn-color-fitted-level-0);\n",
       "  border: var(--sklearn-color-fitted-level-3);\n",
       "}\n",
       "\n",
       ".sk-estimator-doc-link:hover span {\n",
       "  display: block;\n",
       "}\n",
       "\n",
       "/* \"?\"-specific style due to the `<a>` HTML tag */\n",
       "\n",
       "#sk-container-id-2 a.estimator_doc_link {\n",
       "  float: right;\n",
       "  font-size: 1rem;\n",
       "  line-height: 1em;\n",
       "  font-family: monospace;\n",
       "  background-color: var(--sklearn-color-background);\n",
       "  border-radius: 1rem;\n",
       "  height: 1rem;\n",
       "  width: 1rem;\n",
       "  text-decoration: none;\n",
       "  /* unfitted */\n",
       "  color: var(--sklearn-color-unfitted-level-1);\n",
       "  border: var(--sklearn-color-unfitted-level-1) 1pt solid;\n",
       "}\n",
       "\n",
       "#sk-container-id-2 a.estimator_doc_link.fitted {\n",
       "  /* fitted */\n",
       "  border: var(--sklearn-color-fitted-level-1) 1pt solid;\n",
       "  color: var(--sklearn-color-fitted-level-1);\n",
       "}\n",
       "\n",
       "/* On hover */\n",
       "#sk-container-id-2 a.estimator_doc_link:hover {\n",
       "  /* unfitted */\n",
       "  background-color: var(--sklearn-color-unfitted-level-3);\n",
       "  color: var(--sklearn-color-background);\n",
       "  text-decoration: none;\n",
       "}\n",
       "\n",
       "#sk-container-id-2 a.estimator_doc_link.fitted:hover {\n",
       "  /* fitted */\n",
       "  background-color: var(--sklearn-color-fitted-level-3);\n",
       "}\n",
       "</style><div id=\"sk-container-id-2\" class=\"sk-top-container\"><div class=\"sk-text-repr-fallback\"><pre>MLPRegressor(hidden_layer_sizes=(128, 256, 128), max_iter=500, random_state=42)</pre><b>In a Jupyter environment, please rerun this cell to show the HTML representation or trust the notebook. <br />On GitHub, the HTML representation is unable to render, please try loading this page with nbviewer.org.</b></div><div class=\"sk-container\" hidden><div class=\"sk-item\"><div class=\"sk-estimator fitted sk-toggleable\"><input class=\"sk-toggleable__control sk-hidden--visually\" id=\"sk-estimator-id-2\" type=\"checkbox\" checked><label for=\"sk-estimator-id-2\" class=\"sk-toggleable__label fitted sk-toggleable__label-arrow\"><div><div>MLPRegressor</div></div><div><a class=\"sk-estimator-doc-link fitted\" rel=\"noreferrer\" target=\"_blank\" href=\"https://scikit-learn.org/1.6/modules/generated/sklearn.neural_network.MLPRegressor.html\">?<span>Documentation for MLPRegressor</span></a><span class=\"sk-estimator-doc-link fitted\">i<span>Fitted</span></span></div></label><div class=\"sk-toggleable__content fitted\"><pre>MLPRegressor(hidden_layer_sizes=(128, 256, 128), max_iter=500, random_state=42)</pre></div> </div></div></div></div>"
      ],
      "text/plain": [
       "MLPRegressor(hidden_layer_sizes=(128, 256, 128), max_iter=500, random_state=42)"
      ]
     },
     "execution_count": 15,
     "metadata": {},
     "output_type": "execute_result"
    }
   ],
   "source": [
    "mlp.fit(X_train_transformed, y_train_transformed)"
   ]
  },
  {
   "cell_type": "markdown",
   "id": "f977b399-8a77-44c5-8d08-8524f136f598",
   "metadata": {},
   "source": [
    "#### Evaluation"
   ]
  },
  {
   "cell_type": "code",
   "execution_count": 16,
   "id": "6836a932-b227-4529-abb4-e24a1755c996",
   "metadata": {},
   "outputs": [],
   "source": [
    "y_pred = mlp.predict(X_test_transformed)\n",
    "\n",
    "# transform back to unstandardized values\n",
    "y_pred = y_scaler.inverse_transform(y_pred)"
   ]
  },
  {
   "cell_type": "code",
   "execution_count": 17,
   "id": "0482c182-a52a-4f04-8334-56bdb1450b0e",
   "metadata": {},
   "outputs": [
    {
     "name": "stdout",
     "output_type": "stream",
     "text": [
      "  Test MSE: 2.4466\n",
      "  Test MAE: 0.2330\n",
      "  Test R²: 0.9673\n",
      "\n"
     ]
    }
   ],
   "source": [
    "# Compute evaluation metrics on the unscaled values\n",
    "mse = mean_squared_error(y_test, y_pred)\n",
    "mae = mean_absolute_error(y_test, y_pred)\n",
    "r2 = r2_score(y_test, y_pred)\n",
    "\n",
    "print(f\"  Test MSE: {mse:.4f}\")\n",
    "print(f\"  Test MAE: {mae:.4f}\")\n",
    "print(f\"  Test R²: {r2:.4f}\\n\")"
   ]
  },
  {
   "cell_type": "code",
   "execution_count": 11,
   "id": "a1968e24-ae07-48cf-8a6c-9521b1abec89",
   "metadata": {},
   "outputs": [
    {
     "data": {
      "text/plain": [
       "['./checkpoints/mlp_model_y_scaler.pkl']"
      ]
     },
     "execution_count": 11,
     "metadata": {},
     "output_type": "execute_result"
    }
   ],
   "source": [
    "# Save the best MLP model\n",
    "joblib.dump(mlp, './checkpoints/mlp_model_full_training_data.pkl')\n",
    "joblib.dump(x_scaler, './checkpoints/mlp_model_x_scaler.pkl')\n",
    "joblib.dump(y_scaler, './checkpoints/mlp_model_y_scaler.pkl')"
   ]
  },
  {
   "cell_type": "code",
   "execution_count": null,
   "id": "12cd106b-5968-4b5f-8292-734e09cc680a",
   "metadata": {},
   "outputs": [],
   "source": []
  }
 ],
 "metadata": {
  "kernelspec": {
   "display_name": "Python 3 (ipykernel)",
   "language": "python",
   "name": "python3"
  },
  "language_info": {
   "codemirror_mode": {
    "name": "ipython",
    "version": 3
   },
   "file_extension": ".py",
   "mimetype": "text/x-python",
   "name": "python",
   "nbconvert_exporter": "python",
   "pygments_lexer": "ipython3",
   "version": "3.10.16"
  }
 },
 "nbformat": 4,
 "nbformat_minor": 5
}
